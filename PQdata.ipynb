{
 "cells": [
  {
   "cell_type": "code",
   "execution_count": 2,
   "metadata": {},
   "outputs": [],
   "source": [
    "import pandas as pd\n",
    "import os\n",
    "import numpy as np\n",
    "import btrdb\n",
    "import uuid\n",
    "import json\n",
    "\n",
    "from scipy.io import loadmat\n",
    "\n",
    "from datetime import datetime, timedelta\n",
    "from btrdb.utils import timez\n",
    "\n",
    "from multiprocessing import Pool"
   ]
  },
  {
   "cell_type": "code",
   "execution_count": null,
   "metadata": {},
   "outputs": [],
   "source": []
  },
  {
   "cell_type": "markdown",
   "metadata": {},
   "source": [
    "# About the data\n",
    "\n",
    "https://drive.google.com/drive/folders/0B6vSVhUYNe86TGQ3bmgwdG1ySnM"
   ]
  },
  {
   "cell_type": "code",
   "execution_count": 7,
   "metadata": {},
   "outputs": [],
   "source": [
    "path_to_data = os.path.join('../../../../../Volumes/NO NAME/PQ_Data/Day1')\n",
    "clean_data = os.path.join('../../../../../Volumes/NO NAME/PQ_Data/clean')\n",
    "if not os.path.exists(clean_data):\n",
    "    os.mkdir(clean_data)"
   ]
  },
  {
   "cell_type": "code",
   "execution_count": 8,
   "metadata": {},
   "outputs": [],
   "source": [
    "cols = ['hours', 'minutes', 'seconds', 'phA_volt', 'phB_volt', 'phC_volt', 'phA_amp', 'phB_amp', 'phC_amp']\n",
    "units = [None, None, None,'volts','volts','volts','amps','amps','amps']\n"
   ]
  },
  {
   "cell_type": "code",
   "execution_count": 9,
   "metadata": {},
   "outputs": [],
   "source": [
    "def split_df(x, key='Data_VI', st=0, end=None):\n",
    "    if end==None:\n",
    "        end=len(x[key])\n",
    "    times = pd.DataFrame(x[key][:,:3], columns=cols[:3])\n",
    "    meas = pd.DataFrame(x[key][:,3:], columns=cols[3:])\n",
    "    return times, meas\n",
    "\n",
    "def make_ns(times, t0=timez.to_nanoseconds(datetime(2020,1,1))):\n",
    "    nano = 1e9 * (3600*times['hours'] + 60*times['minutes'] + times['seconds'].astype(float))\n",
    "    nano += t0\n",
    "    return nano.astype(int).tolist()\n",
    "    \n",
    "#     return [t0 + timez.ns_delta(**t) for i, t in times.iterrows()]\n"
   ]
  },
  {
   "cell_type": "code",
   "execution_count": 10,
   "metadata": {},
   "outputs": [],
   "source": [
    "laurels_api_key = '2301C47D67FB1C2C48D0CC7B'\n",
    "db = btrdb.connect(\"api.ni4ai.org:4411\", apikey=laurels_api_key)\n",
    "\n",
    "collection = \"lndunn/PQdata/underground\"\n",
    "\n",
    "metadata = {'documentation': 'https://grouper.ieee.org/groups/td/pq/data/downloads/XLPE_data.pdf',\n",
    "            'source': 'https://drive.google.com/drive/folders/0B6vSVhUYNe86TGQ3bmgwdG1ySnM',\n",
    "            \n",
    "           'equipment_specs': {'cable type': 'XLPE underground cable',\n",
    "                                        'cable rating': '8 kV',\n",
    "                                        'Year of installation': '1991',\n",
    "                                        'PT ratio': '8050:115',\n",
    "                                        'CT ratio': '600:5',},\n",
    "            \n",
    "            'measurement_params': {'Sampling mode': 'Continuous (gap-less) data recording',\n",
    "                                       'Sampling rate': '64 samples/cycle',\n",
    "                                       'Measured signals': 'Three-phase bus voltages and feeder currents',}\n",
    "           }"
   ]
  },
  {
   "cell_type": "code",
   "execution_count": 11,
   "metadata": {},
   "outputs": [],
   "source": [
    "streams = db.streams_in_collection(collection)\n",
    "for s in streams:\n",
    "    pv = s.update(collection=collection,\n",
    "                 annotations=metadata,\n",
    "                 replace=True)"
   ]
  },
  {
   "cell_type": "code",
   "execution_count": 12,
   "metadata": {},
   "outputs": [
    {
     "data": {
      "text/plain": [
       "svmem(total=8589934592, available=4160274432, percent=51.6, used=4428562432, free=357138432, active=2829770752, inactive=1902387200, wired=1598791680)"
      ]
     },
     "execution_count": 12,
     "metadata": {},
     "output_type": "execute_result"
    }
   ],
   "source": [
    "import psutil\n",
    "psutil.virtual_memory()"
   ]
  },
  {
   "cell_type": "code",
   "execution_count": 9,
   "metadata": {},
   "outputs": [],
   "source": [
    "# # restructure raw data into csv files\n",
    "# for hr in range(1,25):\n",
    "#     x = loadmat(os.path.join(path_to_data, 'Hour_%i.mat'%(hr)))\n",
    "#     times, meas = split_df(x)\n",
    "    \n",
    "#     ts = pd.Series(make_ns(times), name='timestamp')\n",
    "    \n",
    "#     dest = os.path.join(clean_data, 'timestamp')\n",
    "#     if not os.path.exists(dest):\n",
    "#         os.mkdir(dest)\n",
    "#     ts.to_csv(os.path.join(dest, 'hour%i.csv'%(hr)), index=False, header=True)\n",
    "    \n",
    "#     for key in meas.keys():\n",
    "#         dest = os.path.join(clean_data, key)\n",
    "#         if not os.path.exists(dest):\n",
    "#             os.mkdir(dest)\n",
    "#         meas[key].to_csv(os.path.join(dest, 'hour%i.csv'%(hr)), index=False, header=True)\n"
   ]
  },
  {
   "cell_type": "code",
   "execution_count": 13,
   "metadata": {},
   "outputs": [
    {
     "data": {
      "text/plain": [
       "['timestamp',\n",
       " 'phA_volt',\n",
       " 'phB_volt',\n",
       " 'phC_volt',\n",
       " 'phA_amp',\n",
       " 'phB_amp',\n",
       " 'phC_amp']"
      ]
     },
     "execution_count": 13,
     "metadata": {},
     "output_type": "execute_result"
    }
   ],
   "source": [
    "os.listdir(clean_data)"
   ]
  },
  {
   "cell_type": "code",
   "execution_count": 14,
   "metadata": {},
   "outputs": [],
   "source": [
    "uuids = {}\n",
    "for s in db.streams_in_collection(collection):\n",
    "    uuids[s.name] = s.uuid"
   ]
  },
  {
   "cell_type": "code",
   "execution_count": 15,
   "metadata": {},
   "outputs": [],
   "source": [
    "def check_count(stream, tstamps, tol=5):\n",
    "    start = timez.ns_to_datetime(tstamps[0])\n",
    "    end = timez.ns_to_datetime(tstamps[-1])\n",
    "    \n",
    "    count = stream.count(start, end, precise=True)\n",
    "    return tol > np.abs(len(tstamps) - count)\n",
    "    \n",
    "def check_extremes(stream, tstamps, vals):\n",
    "    start = timez.ns_to_datetime(tstamps[0])\n",
    "    end = timez.ns_to_datetime(tstamps[-1])\n",
    "    \n",
    "    spoints, _ = s.aligned_windows(start, end, 44)\n",
    "    min_val = min(s.min for s in spoints)\n",
    "    max_val = min(s.max for s in spoints)\n",
    "    \n",
    "    correct_min = min_val == min(vals)\n",
    "    correct_max = max_val == max(vals)\n",
    "    \n",
    "    return correct_min and correct_max "
   ]
  },
  {
   "cell_type": "code",
   "execution_count": 29,
   "metadata": {},
   "outputs": [],
   "source": [
    "def get_data(name, hours):\n",
    "    for hr in hours:\n",
    "        fname = os.path.join(clean_data, name, 'hour%i.csv'%(hr))\n",
    "        if hr == hours[0]:\n",
    "            vals = pd.read_csv(fname).rename(columns={name: hr})\n",
    "        else:\n",
    "            vals[hr] = pd.read_csv(fname)\n",
    "    return np.array(vals).flatten().tolist()\n",
    "\n",
    "def func(hours):\n",
    "    print('starting', hours)\n",
    "    tstamps = get_data('timestamp', hours)\n",
    "    for stream in os.listdir(clean_data):\n",
    "        t0 = datetime.now()\n",
    "        if stream == 'timestamp':\n",
    "            continue\n",
    "            \n",
    "        s = db.stream_from_uuid(uuids[stream])\n",
    "        \n",
    "        if check_count(s, tstamps):\n",
    "            continue\n",
    "            \n",
    "        else:\n",
    "            vals = get_data(stream, hours)\n",
    "        \n",
    "            print('\\n', '\\tpreprocessing', '\\n\\t', str(datetime.now()-t0).split('.')[0])\n",
    "\n",
    "            s.delete(tstamps[0], tstamps[-1])\n",
    "            print('\\n', '\\tdeleting old data', '\\n\\t', str(datetime.now()-t0).split('.')[0])\n",
    "\n",
    "            s.insert(list(zip(tstamps, vals)))\n",
    "            print('\\n', '\\tnew data inserted', '\\n\\t', str(datetime.now()-t0).split('.')[0])\n",
    "        \n",
    "            if check_count(s, tstamps):\n",
    "                continue\n",
    "                \n",
    "        print('\\nfinished with', stream)\n",
    "    print(hours[-1], 'window complete')\n",
    "        \n",
    "dt = 4\n",
    "windows = [[h+i for i in range(dt)] for h in range(1,25) if h%dt==1]\n",
    "\n",
    "def mp_handler():    \n",
    "    p = Pool(4)\n",
    "    p.map(func, windows)\n",
    "\n",
    "\n"
   ]
  },
  {
   "cell_type": "code",
   "execution_count": 30,
   "metadata": {},
   "outputs": [
    {
     "name": "stdout",
     "output_type": "stream",
     "text": [
      "starting [9, 10, 11, 12]\n",
      "starting [5, 6, 7, 8]\n",
      "starting [1, 2, 3, 4]\n",
      "starting [13, 14, 15, 16]\n",
      "8 window complete\n",
      "16 window complete\n",
      "starting [17, 18, 19, 20]\n",
      "starting [21, 22, 23, 24]\n",
      "20 window complete\n",
      "\n",
      " \tpreprocessing \n",
      "\t 0:03:34\n",
      "\n",
      " \tpreprocessing \n",
      "\t 0:03:35\n",
      "\n",
      "\n",
      " \tdeleting old data \n",
      "\t 0:03:39\n",
      " \tdeleting old data \n",
      "\t 0:03:39\n",
      "\n",
      " \tnew data inserted \n",
      "\t 1:12:47\n",
      "\n",
      " \tpreprocessing \n",
      "\t 0:12:37\n",
      "\n",
      " \tdeleting old data \n",
      "\t 0:12:39\n",
      "\n",
      " \tnew data inserted \n",
      "\t 1:52:11\n",
      "12 window complete\n",
      "\n",
      " \tnew data inserted \n",
      "\t 0:52:05\n",
      "\n",
      " \tpreprocessing \n",
      "\t 0:00:28\n",
      "\n",
      " \tdeleting old data \n",
      "\t 0:00:28\n",
      "\n",
      " \tnew data inserted \n",
      "\t 0:16:20\n",
      "\n",
      " \tpreprocessing \n",
      "\t 0:00:25\n",
      "\n",
      " \tdeleting old data \n",
      "\t 0:00:26\n",
      "\n",
      " \tnew data inserted \n",
      "\t 1:06:50\n",
      "\n",
      " \tpreprocessing \n",
      "\t 0:46:19\n",
      "\n",
      " \tdeleting old data \n",
      "\t 0:46:27\n",
      "\n",
      " \tnew data inserted \n",
      "\t 1:32:15\n",
      "4 window complete\n"
     ]
    },
    {
     "ename": "ValueError",
     "evalue": "Value out of range: -71996360350720",
     "output_type": "error",
     "traceback": [
      "\u001b[0;31m---------------------------------------------------------------------------\u001b[0m",
      "\u001b[0;31mRemoteTraceback\u001b[0m                           Traceback (most recent call last)",
      "\u001b[0;31mRemoteTraceback\u001b[0m: \n\"\"\"\nTraceback (most recent call last):\n  File \"/Users/laureldunn/anaconda3/lib/python3.7/multiprocessing/pool.py\", line 121, in worker\n    result = (True, func(*args, **kwds))\n  File \"/Users/laureldunn/anaconda3/lib/python3.7/multiprocessing/pool.py\", line 44, in mapstar\n    return list(map(*args))\n  File \"<ipython-input-29-e0904c282a7f>\", line 20, in func\n    if check_count(s, tstamps):\n  File \"<ipython-input-15-70ad5ec7fa13>\", line 5, in check_count\n    count = stream.count(start, end, precise=True)\n  File \"/Users/laureldunn/anaconda3/lib/python3.7/site-packages/btrdb/stream.py\", line 177, in count\n    points = self.windows(start, end, width, depth, version)\n  File \"/Users/laureldunn/anaconda3/lib/python3.7/site-packages/btrdb/stream.py\", line 725, in windows\n    for stat_points, version in windows:\n  File \"/Users/laureldunn/anaconda3/lib/python3.7/site-packages/btrdb/endpoint.py\", line 51, in windows\n    params = btrdb_pb2.WindowsParams(uuid = uu.bytes, start = start, end = end, versionMajor = version, width = width, depth = depth)\nValueError: Value out of range: -71996360350720\n\"\"\"",
      "\nThe above exception was the direct cause of the following exception:\n",
      "\u001b[0;31mValueError\u001b[0m                                Traceback (most recent call last)",
      "\u001b[0;32m<ipython-input-30-25bd53271d65>\u001b[0m in \u001b[0;36m<module>\u001b[0;34m\u001b[0m\n\u001b[0;32m----> 1\u001b[0;31m \u001b[0mmp_handler\u001b[0m\u001b[0;34m(\u001b[0m\u001b[0;34m)\u001b[0m\u001b[0;34m\u001b[0m\u001b[0;34m\u001b[0m\u001b[0m\n\u001b[0m",
      "\u001b[0;32m<ipython-input-29-e0904c282a7f>\u001b[0m in \u001b[0;36mmp_handler\u001b[0;34m()\u001b[0m\n\u001b[1;32m     43\u001b[0m \u001b[0;32mdef\u001b[0m \u001b[0mmp_handler\u001b[0m\u001b[0;34m(\u001b[0m\u001b[0;34m)\u001b[0m\u001b[0;34m:\u001b[0m\u001b[0;34m\u001b[0m\u001b[0;34m\u001b[0m\u001b[0m\n\u001b[1;32m     44\u001b[0m     \u001b[0mp\u001b[0m \u001b[0;34m=\u001b[0m \u001b[0mPool\u001b[0m\u001b[0;34m(\u001b[0m\u001b[0;36m4\u001b[0m\u001b[0;34m)\u001b[0m\u001b[0;34m\u001b[0m\u001b[0;34m\u001b[0m\u001b[0m\n\u001b[0;32m---> 45\u001b[0;31m     \u001b[0mp\u001b[0m\u001b[0;34m.\u001b[0m\u001b[0mmap\u001b[0m\u001b[0;34m(\u001b[0m\u001b[0mfunc\u001b[0m\u001b[0;34m,\u001b[0m \u001b[0mwindows\u001b[0m\u001b[0;34m)\u001b[0m\u001b[0;34m\u001b[0m\u001b[0;34m\u001b[0m\u001b[0m\n\u001b[0m\u001b[1;32m     46\u001b[0m \u001b[0;34m\u001b[0m\u001b[0m\n\u001b[1;32m     47\u001b[0m \u001b[0;34m\u001b[0m\u001b[0m\n",
      "\u001b[0;32m~/anaconda3/lib/python3.7/multiprocessing/pool.py\u001b[0m in \u001b[0;36mmap\u001b[0;34m(self, func, iterable, chunksize)\u001b[0m\n\u001b[1;32m    266\u001b[0m         \u001b[0;32min\u001b[0m \u001b[0ma\u001b[0m \u001b[0mlist\u001b[0m \u001b[0mthat\u001b[0m \u001b[0;32mis\u001b[0m \u001b[0mreturned\u001b[0m\u001b[0;34m.\u001b[0m\u001b[0;34m\u001b[0m\u001b[0;34m\u001b[0m\u001b[0m\n\u001b[1;32m    267\u001b[0m         '''\n\u001b[0;32m--> 268\u001b[0;31m         \u001b[0;32mreturn\u001b[0m \u001b[0mself\u001b[0m\u001b[0;34m.\u001b[0m\u001b[0m_map_async\u001b[0m\u001b[0;34m(\u001b[0m\u001b[0mfunc\u001b[0m\u001b[0;34m,\u001b[0m \u001b[0miterable\u001b[0m\u001b[0;34m,\u001b[0m \u001b[0mmapstar\u001b[0m\u001b[0;34m,\u001b[0m \u001b[0mchunksize\u001b[0m\u001b[0;34m)\u001b[0m\u001b[0;34m.\u001b[0m\u001b[0mget\u001b[0m\u001b[0;34m(\u001b[0m\u001b[0;34m)\u001b[0m\u001b[0;34m\u001b[0m\u001b[0;34m\u001b[0m\u001b[0m\n\u001b[0m\u001b[1;32m    269\u001b[0m \u001b[0;34m\u001b[0m\u001b[0m\n\u001b[1;32m    270\u001b[0m     \u001b[0;32mdef\u001b[0m \u001b[0mstarmap\u001b[0m\u001b[0;34m(\u001b[0m\u001b[0mself\u001b[0m\u001b[0;34m,\u001b[0m \u001b[0mfunc\u001b[0m\u001b[0;34m,\u001b[0m \u001b[0miterable\u001b[0m\u001b[0;34m,\u001b[0m \u001b[0mchunksize\u001b[0m\u001b[0;34m=\u001b[0m\u001b[0;32mNone\u001b[0m\u001b[0;34m)\u001b[0m\u001b[0;34m:\u001b[0m\u001b[0;34m\u001b[0m\u001b[0;34m\u001b[0m\u001b[0m\n",
      "\u001b[0;32m~/anaconda3/lib/python3.7/multiprocessing/pool.py\u001b[0m in \u001b[0;36mget\u001b[0;34m(self, timeout)\u001b[0m\n\u001b[1;32m    655\u001b[0m             \u001b[0;32mreturn\u001b[0m \u001b[0mself\u001b[0m\u001b[0;34m.\u001b[0m\u001b[0m_value\u001b[0m\u001b[0;34m\u001b[0m\u001b[0;34m\u001b[0m\u001b[0m\n\u001b[1;32m    656\u001b[0m         \u001b[0;32melse\u001b[0m\u001b[0;34m:\u001b[0m\u001b[0;34m\u001b[0m\u001b[0;34m\u001b[0m\u001b[0m\n\u001b[0;32m--> 657\u001b[0;31m             \u001b[0;32mraise\u001b[0m \u001b[0mself\u001b[0m\u001b[0;34m.\u001b[0m\u001b[0m_value\u001b[0m\u001b[0;34m\u001b[0m\u001b[0;34m\u001b[0m\u001b[0m\n\u001b[0m\u001b[1;32m    658\u001b[0m \u001b[0;34m\u001b[0m\u001b[0m\n\u001b[1;32m    659\u001b[0m     \u001b[0;32mdef\u001b[0m \u001b[0m_set\u001b[0m\u001b[0;34m(\u001b[0m\u001b[0mself\u001b[0m\u001b[0;34m,\u001b[0m \u001b[0mi\u001b[0m\u001b[0;34m,\u001b[0m \u001b[0mobj\u001b[0m\u001b[0;34m)\u001b[0m\u001b[0;34m:\u001b[0m\u001b[0;34m\u001b[0m\u001b[0;34m\u001b[0m\u001b[0m\n",
      "\u001b[0;31mValueError\u001b[0m: Value out of range: -71996360350720"
     ]
    }
   ],
   "source": [
    "mp_handler()"
   ]
  },
  {
   "cell_type": "code",
   "execution_count": 27,
   "metadata": {},
   "outputs": [
    {
     "data": {
      "text/plain": [
       "[[1, 2, 3, 4],\n",
       " [5, 6, 7, 8],\n",
       " [9, 10, 11, 12],\n",
       " [13, 14, 15, 16],\n",
       " [17, 18, 19, 20],\n",
       " [21, 22, 23, 24]]"
      ]
     },
     "execution_count": 27,
     "metadata": {},
     "output_type": "execute_result"
    }
   ],
   "source": [
    "windows"
   ]
  },
  {
   "cell_type": "code",
   "execution_count": 23,
   "metadata": {},
   "outputs": [
    {
     "name": "stdout",
     "output_type": "stream",
     "text": [
      "['a', '2']\n",
      " Processs a\tWaiting 2 seconds\n",
      "['b', '4']\n",
      " Processs b\tWaiting 4 seconds\n",
      " Process a\tDONE\n",
      "['c', '6']\n",
      " Processs c\tWaiting 6 seconds\n",
      " Process b\tDONE\n",
      "['d', '8']\n",
      " Processs d\tWaiting 8 seconds\n",
      " Process c\tDONE\n",
      "['e', '1']\n",
      " Processs e\tWaiting 1 seconds\n",
      " Process e\tDONE\n",
      "['f', '3']\n",
      " Processs f\tWaiting 3 seconds\n",
      " Process d\tDONE\n",
      "['g', '5']\n",
      " Processs g\tWaiting 5 seconds\n",
      " Process f\tDONE\n",
      "['h', '7']\n",
      " Processs h\tWaiting 7 seconds\n",
      " Process g\tDONE\n",
      " Process h\tDONE\n"
     ]
    }
   ],
   "source": [
    "from multiprocessing import Pool\n",
    "import time\n",
    "\n",
    "data = (\n",
    "    ['a', '2'], ['b', '4'], ['c', '6'], ['d', '8'],\n",
    "    ['e', '1'], ['f', '3'], ['g', '5'], ['h', '7']\n",
    ")\n",
    "\n",
    "def mp_worker(vals):\n",
    "    inputs, the_time = vals\n",
    "    print (\" Processs %s\\tWaiting %s seconds\" % (inputs, the_time))\n",
    "    time.sleep(int(the_time))\n",
    "    print (\" Process %s\\tDONE\" % inputs)\n",
    "\n",
    "def mp_handler():\n",
    "    p = Pool(2)\n",
    "    p.map(mp_worker, data)\n",
    "\n",
    "mp_handler()"
   ]
  },
  {
   "cell_type": "code",
   "execution_count": 54,
   "metadata": {},
   "outputs": [
    {
     "data": {
      "text/plain": [
       "2"
      ]
     },
     "execution_count": 54,
     "metadata": {},
     "output_type": "execute_result"
    }
   ],
   "source": [
    "\n",
    "\n",
    "\n",
    "for window in windows:\n",
    "    for hr in window:\n",
    "        fname = os.path.join(clean_data, 'timestamp', 'hour%i.csv'%(hr))\n",
    "        if hr == window[0]:\n",
    "            tstamps = pd.read_csv(fname).rename(columns={'timestamp': hr})\n",
    "        else:\n",
    "            tstamps[hr] = pd.read_csv(fname)\n",
    "    tstamps = np.array(tstamps).flatten().tolist()\n",
    "    \n",
    "    for stream in os.listdir(clean_data):\n",
    "        t0 = datetime.now()\n",
    "        if stream == 'timestamp':\n",
    "            continue\n",
    "            \n",
    "        s = db.stream_from_uuid(uuids[stream])\n",
    "        \n",
    "        if check_count(s, tstamps):\n",
    "            continue\n",
    "        \n",
    "        for hr in window:\n",
    "            fname = os.path.join(clean_data, stream, 'hour%i.csv'%(hr))\n",
    "            if hr == window[0]:\n",
    "                vals = pd.read_csv(fname).rename(columns={stream: hr})\n",
    "            else:\n",
    "                vals[hr] = pd.read_csv(fname)\n",
    "        vals = np.array(vals).flatten().tolist()\n",
    "    \n",
    "        print('\\n', '\\tpreprocessing', '\\n\\t', str(datetime.now()-t0).split('.')[0])\n",
    "\n",
    "        s.delete(tstamps[0], tstamps[-1])\n",
    "        print('\\n', '\\tdeleting old data', '\\n\\t', str(datetime.now()-t0).split('.')[0])\n",
    "\n",
    "        s.insert(list(zip(tstamps, vals)))\n",
    "        print('\\n', '\\tnew data inserted', '\\n\\t', str(datetime.now()-t0).split('.')[0])\n",
    "        \n",
    "        if check_count(s, tstamps):\n",
    "            continue\n",
    "        "
   ]
  },
  {
   "cell_type": "code",
   "execution_count": 104,
   "metadata": {},
   "outputs": [],
   "source": [
    "# streams = db.streams_in_collection(collection)\n",
    "# for s in streams:\n",
    "#     s.obliterate()"
   ]
  },
  {
   "cell_type": "code",
   "execution_count": 105,
   "metadata": {},
   "outputs": [
    {
     "name": "stdout",
     "output_type": "stream",
     "text": [
      "phA_volt volts\n",
      "phB_volt volts\n",
      "phC_volt volts\n",
      "phA_amp amps\n",
      "phB_amp amps\n",
      "phC_amp amps\n",
      "[<Stream collection=lndunn/PQdata/underground name=phA_volt>, <Stream collection=lndunn/PQdata/underground name=phB_volt>, <Stream collection=lndunn/PQdata/underground name=phC_volt>, <Stream collection=lndunn/PQdata/underground name=phA_amp>, <Stream collection=lndunn/PQdata/underground name=phB_amp>, <Stream collection=lndunn/PQdata/underground name=phC_amp>]\n"
     ]
    }
   ],
   "source": [
    "# for col, unit in zip(cols[3:], units[3:]):\n",
    "#     print (col, unit)\n",
    "#     streams = db.streams_in_collection(collection)\n",
    "#     if col not in [s.name for s in streams]:\n",
    "#         s = db.create(uuid=uuid.uuid4(),\n",
    "#                       collection=collection,\n",
    "#                       tags={\"name\": col, \"unit\": unit},\n",
    "# #                       annotations=json.dumps(metadata)\n",
    "#                      )\n",
    "        \n",
    "# print(db.streams_in_collection(collection))"
   ]
  },
  {
   "cell_type": "code",
   "execution_count": 6,
   "metadata": {},
   "outputs": [],
   "source": [
    "\n",
    "streams = db.streams_in_collection(collection)"
   ]
  },
  {
   "cell_type": "code",
   "execution_count": 24,
   "metadata": {
    "scrolled": false
   },
   "outputs": [
    {
     "name": "stdout",
     "output_type": "stream",
     "text": [
      "\t 0 phA_volt\n",
      "\t 0:02:48.531801\n",
      "\t 1 phB_volt\n",
      "\t 0:05:34.973421\n",
      "\t 2 phC_volt\n",
      "\t 0:08:10.965217\n",
      "\t 3 phA_amp\n",
      "\t 0:10:45.826814\n",
      "\t 4 phB_amp\n",
      "\t 0:13:24.439823\n",
      "\t 5 phC_amp\n",
      "\t 0:15:53.788878\n"
     ]
    }
   ],
   "source": [
    "time = datetime.now()\n",
    "t0 = timez.to_nanoseconds(datetime(2020,1,1))\n",
    "\n",
    "hr = 24\n",
    "\n",
    "x = loadmat(os.path.join(path_to_data, 'Hour_%i.mat'%(hr)))\n",
    "times, meas = split_df(x)\n",
    "    \n",
    "ts = make_ns(times)\n",
    "\n",
    "assert len(ts[:50]) == len(list(set(ts[:50])))\n",
    "    \n",
    "for j, s in enumerate(db.streams_in_collection(collection)):\n",
    "    print('\\t', j, s.name)\n",
    "    _last = s.latest()\n",
    "    if _last == None:\n",
    "        pass\n",
    "    elif _last[0][0] == ts[-1]:\n",
    "        continue\n",
    "    elif _last[0][0] > ts[0]:\n",
    "        s.delete(ts[0], ts[-1])\n",
    "\n",
    "    s.insert(list(zip(ts, meas[s.name].tolist())))\n",
    "    print('\\t', datetime.now()-time)\n"
   ]
  },
  {
   "cell_type": "code",
   "execution_count": 23,
   "metadata": {},
   "outputs": [
    {
     "name": "stdout",
     "output_type": "stream",
     "text": [
      "(1, 'phB_volt', 16082217, 13824000, 13824000)\n",
      "(1, 'phB_amp', 16082217, 13824000, 13824000)\n",
      "(1, 'phC_volt', 16082217, 13824000, 13824000)\n",
      "(1, 'phA_amp', 16082217, 13824000, 13824000)\n",
      "(1, 'phC_amp', 16082217, 13824000, 13824000)\n",
      "(1, 'phA_volt', 16082217, 13824000, 13824000)\n",
      "(2, 'phB_volt', 12663170, 13824000, 13824000)\n",
      "(2, 'phB_amp', 12663170, 13824000, 13824000)\n",
      "(2, 'phC_volt', 12663170, 13824000, 13824000)\n",
      "(2, 'phA_amp', 12663170, 13824000, 13824000)\n",
      "(2, 'phC_amp', 12663170, 13824000, 13824000)\n",
      "(2, 'phA_volt', 12663170, 13824000, 13824000)\n",
      "(3, 'phB_volt', 12663170, 13824000, 13824000)\n",
      "(3, 'phB_amp', 12663170, 13824000, 13824000)\n",
      "(3, 'phC_volt', 12663170, 13824000, 13824000)\n",
      "(3, 'phA_amp', 12663170, 13824000, 13824000)\n",
      "(3, 'phC_amp', 12663170, 13824000, 13824000)\n",
      "(3, 'phA_volt', 12663170, 13824000, 13824000)\n",
      "(4, 'phB_volt', 12663171, 13824000, 13824000)\n",
      "(4, 'phB_amp', 12663171, 13824000, 13824000)\n",
      "(4, 'phC_volt', 12663171, 13824000, 13824000)\n",
      "(4, 'phA_amp', 12663171, 13824000, 13824000)\n",
      "(4, 'phC_amp', 12663171, 13824000, 13824000)\n",
      "(4, 'phA_volt', 12663171, 13824000, 13824000)\n",
      "(5, 'phB_volt', 16884228, 13824000, 13824000)\n",
      "(5, 'phB_amp', 16884228, 13824000, 13824000)\n",
      "(5, 'phC_volt', 16884228, 13824000, 13824000)\n",
      "(5, 'phA_amp', 16884228, 13824000, 13824000)\n",
      "(5, 'phC_amp', 16884228, 13824000, 13824000)\n",
      "(5, 'phA_volt', 16884228, 13824000, 13824000)\n",
      "(6, 'phB_volt', 12663171, 13824000, 13824000)\n",
      "(6, 'phB_amp', 12663171, 13824000, 13824000)\n",
      "(6, 'phC_volt', 12663171, 13824000, 13824000)\n",
      "(6, 'phA_amp', 12663171, 13824000, 13824000)\n",
      "(6, 'phC_amp', 12663171, 13824000, 13824000)\n",
      "(6, 'phA_volt', 12663171, 13824000, 13824000)\n"
     ]
    },
    {
     "ename": "KeyboardInterrupt",
     "evalue": "",
     "output_type": "error",
     "traceback": [
      "\u001b[0;31m---------------------------------------------------------------------------\u001b[0m",
      "\u001b[0;31mKeyboardInterrupt\u001b[0m                         Traceback (most recent call last)",
      "\u001b[0;32m<ipython-input-23-47cd8e8952c6>\u001b[0m in \u001b[0;36m<module>\u001b[0;34m\u001b[0m\n\u001b[1;32m      7\u001b[0m     \u001b[0mtimes\u001b[0m\u001b[0;34m,\u001b[0m \u001b[0mmeas\u001b[0m \u001b[0;34m=\u001b[0m \u001b[0msplit_df\u001b[0m\u001b[0;34m(\u001b[0m\u001b[0mx\u001b[0m\u001b[0;34m)\u001b[0m\u001b[0;34m\u001b[0m\u001b[0;34m\u001b[0m\u001b[0m\n\u001b[1;32m      8\u001b[0m \u001b[0;34m\u001b[0m\u001b[0m\n\u001b[0;32m----> 9\u001b[0;31m     \u001b[0mts\u001b[0m \u001b[0;34m=\u001b[0m \u001b[0mmake_ns\u001b[0m\u001b[0;34m(\u001b[0m\u001b[0mtimes\u001b[0m\u001b[0;34m)\u001b[0m\u001b[0;34m\u001b[0m\u001b[0;34m\u001b[0m\u001b[0m\n\u001b[0m\u001b[1;32m     10\u001b[0m \u001b[0;34m\u001b[0m\u001b[0m\n\u001b[1;32m     11\u001b[0m     \u001b[0;32massert\u001b[0m \u001b[0mlen\u001b[0m\u001b[0;34m(\u001b[0m\u001b[0mts\u001b[0m\u001b[0;34m[\u001b[0m\u001b[0;34m:\u001b[0m\u001b[0;36m50\u001b[0m\u001b[0;34m]\u001b[0m\u001b[0;34m)\u001b[0m \u001b[0;34m==\u001b[0m \u001b[0mlen\u001b[0m\u001b[0;34m(\u001b[0m\u001b[0mlist\u001b[0m\u001b[0;34m(\u001b[0m\u001b[0mset\u001b[0m\u001b[0;34m(\u001b[0m\u001b[0mts\u001b[0m\u001b[0;34m[\u001b[0m\u001b[0;34m:\u001b[0m\u001b[0;36m50\u001b[0m\u001b[0;34m]\u001b[0m\u001b[0;34m)\u001b[0m\u001b[0;34m)\u001b[0m\u001b[0;34m)\u001b[0m\u001b[0;34m\u001b[0m\u001b[0;34m\u001b[0m\u001b[0m\n",
      "\u001b[0;32m<ipython-input-21-1caf5ca7a3ee>\u001b[0m in \u001b[0;36mmake_ns\u001b[0;34m(times, t0)\u001b[0m\n\u001b[1;32m      9\u001b[0m     \u001b[0mnano\u001b[0m \u001b[0;34m=\u001b[0m \u001b[0;36m1e9\u001b[0m \u001b[0;34m*\u001b[0m \u001b[0;34m(\u001b[0m\u001b[0;36m3600\u001b[0m\u001b[0;34m*\u001b[0m\u001b[0mtimes\u001b[0m\u001b[0;34m[\u001b[0m\u001b[0;34m'hours'\u001b[0m\u001b[0;34m]\u001b[0m \u001b[0;34m+\u001b[0m \u001b[0;36m60\u001b[0m\u001b[0;34m*\u001b[0m\u001b[0mtimes\u001b[0m\u001b[0;34m[\u001b[0m\u001b[0;34m'minutes'\u001b[0m\u001b[0;34m]\u001b[0m \u001b[0;34m+\u001b[0m \u001b[0mtimes\u001b[0m\u001b[0;34m[\u001b[0m\u001b[0;34m'seconds'\u001b[0m\u001b[0;34m]\u001b[0m\u001b[0;34m.\u001b[0m\u001b[0mastype\u001b[0m\u001b[0;34m(\u001b[0m\u001b[0mfloat\u001b[0m\u001b[0;34m)\u001b[0m\u001b[0;34m)\u001b[0m\u001b[0;34m\u001b[0m\u001b[0;34m\u001b[0m\u001b[0m\n\u001b[1;32m     10\u001b[0m     \u001b[0mnano\u001b[0m \u001b[0;34m+=\u001b[0m \u001b[0mt0\u001b[0m\u001b[0;34m\u001b[0m\u001b[0;34m\u001b[0m\u001b[0m\n\u001b[0;32m---> 11\u001b[0;31m     \u001b[0;32mreturn\u001b[0m \u001b[0mnano\u001b[0m\u001b[0;34m.\u001b[0m\u001b[0mastype\u001b[0m\u001b[0;34m(\u001b[0m\u001b[0mint\u001b[0m\u001b[0;34m)\u001b[0m\u001b[0;34m.\u001b[0m\u001b[0mtolist\u001b[0m\u001b[0;34m(\u001b[0m\u001b[0;34m)\u001b[0m\u001b[0;34m\u001b[0m\u001b[0;34m\u001b[0m\u001b[0m\n\u001b[0m\u001b[1;32m     12\u001b[0m \u001b[0;34m\u001b[0m\u001b[0m\n\u001b[1;32m     13\u001b[0m \u001b[0;31m#     return [t0 + timez.ns_delta(**t) for i, t in times.iterrows()]\u001b[0m\u001b[0;34m\u001b[0m\u001b[0;34m\u001b[0m\u001b[0;34m\u001b[0m\u001b[0m\n",
      "\u001b[0;32m~/miniconda3/lib/python3.7/site-packages/pandas/core/base.py\u001b[0m in \u001b[0;36mtolist\u001b[0;34m(self)\u001b[0m\n\u001b[1;32m   1020\u001b[0m             \u001b[0;32mreturn\u001b[0m \u001b[0mlist\u001b[0m\u001b[0;34m(\u001b[0m\u001b[0mself\u001b[0m\u001b[0;34m.\u001b[0m\u001b[0m_values\u001b[0m\u001b[0;34m)\u001b[0m\u001b[0;34m\u001b[0m\u001b[0;34m\u001b[0m\u001b[0m\n\u001b[1;32m   1021\u001b[0m         \u001b[0;32melse\u001b[0m\u001b[0;34m:\u001b[0m\u001b[0;34m\u001b[0m\u001b[0;34m\u001b[0m\u001b[0m\n\u001b[0;32m-> 1022\u001b[0;31m             \u001b[0;32mreturn\u001b[0m \u001b[0mself\u001b[0m\u001b[0;34m.\u001b[0m\u001b[0m_values\u001b[0m\u001b[0;34m.\u001b[0m\u001b[0mtolist\u001b[0m\u001b[0;34m(\u001b[0m\u001b[0;34m)\u001b[0m\u001b[0;34m\u001b[0m\u001b[0;34m\u001b[0m\u001b[0m\n\u001b[0m\u001b[1;32m   1023\u001b[0m \u001b[0;34m\u001b[0m\u001b[0m\n\u001b[1;32m   1024\u001b[0m     \u001b[0mto_list\u001b[0m \u001b[0;34m=\u001b[0m \u001b[0mtolist\u001b[0m\u001b[0;34m\u001b[0m\u001b[0;34m\u001b[0m\u001b[0m\n",
      "\u001b[0;31mKeyboardInterrupt\u001b[0m: "
     ]
    }
   ],
   "source": [
    "time = datetime.now()\n",
    "t0 = timez.to_nanoseconds(datetime(2020,1,1))\n",
    "\n",
    "issues = []\n",
    "for hr in range(1,25):\n",
    "    x = loadmat(os.path.join(path_to_data, 'Hour_%i.mat'%(hr)))\n",
    "    times, meas = split_df(x)\n",
    "    \n",
    "    ts = make_ns(times)\n",
    "    \n",
    "    assert len(ts[:50]) == len(list(set(ts[:50])))\n",
    "    \n",
    "    for s in db.streams_in_collection(collection):\n",
    "        count = s.count(ts[0], ts[-1])\n",
    "        if count != len(ts):\n",
    "            issues.append((hr, s.name, count, len(ts), len(list(set(ts)))))\n",
    "            print(issues[-1])"
   ]
  },
  {
   "cell_type": "code",
   "execution_count": 27,
   "metadata": {},
   "outputs": [
    {
     "data": {
      "text/plain": [
       "(13824000, 13824000, 13824000, 64.0)"
      ]
     },
     "execution_count": 27,
     "metadata": {},
     "output_type": "execute_result"
    }
   ],
   "source": [
    "len(times), len(meas), sum(pd.notnull(meas['phA_amp'])), len(times)/60/60/60"
   ]
  },
  {
   "cell_type": "code",
   "execution_count": 17,
   "metadata": {},
   "outputs": [],
   "source": [
    "x = loadmat(os.path.join(path_to_data, 'Hour_%i.mat'%(hr)))"
   ]
  },
  {
   "cell_type": "code",
   "execution_count": null,
   "metadata": {},
   "outputs": [],
   "source": []
  },
  {
   "cell_type": "code",
   "execution_count": 60,
   "metadata": {},
   "outputs": [
    {
     "name": "stdout",
     "output_type": "stream",
     "text": [
      "hour 1 ...\n",
      "\t phA_volt \t 0:02:09.189075\n",
      "\t phB_volt \t 0:04:10.313639\n",
      "\t phC_volt \t 0:06:24.983900\n"
     ]
    },
    {
     "ename": "_InactiveRpcError",
     "evalue": "<_InactiveRpcError of RPC that terminated with:\n\tstatus = StatusCode.UNAVAILABLE\n\tdetails = \"Connection reset by peer\"\n\tdebug_error_string = \"{\"created\":\"@1605994435.207225000\",\"description\":\"Error received from peer ipv4:34.202.86.244:4411\",\"file\":\"src/core/lib/surface/call.cc\",\"file_line\":1062,\"grpc_message\":\"Connection reset by peer\",\"grpc_status\":14}\"\n>",
     "output_type": "error",
     "traceback": [
      "\u001b[0;31m---------------------------------------------------------------------------\u001b[0m",
      "\u001b[0;31m_InactiveRpcError\u001b[0m                         Traceback (most recent call last)",
      "\u001b[0;32m<ipython-input-60-03e4f26842cd>\u001b[0m in \u001b[0;36m<module>\u001b[0;34m\u001b[0m\n\u001b[1;32m     16\u001b[0m \u001b[0;34m\u001b[0m\u001b[0m\n\u001b[1;32m     17\u001b[0m     \u001b[0;32mfor\u001b[0m \u001b[0ms\u001b[0m \u001b[0;32min\u001b[0m \u001b[0mdb\u001b[0m\u001b[0;34m.\u001b[0m\u001b[0mstreams_in_collection\u001b[0m\u001b[0;34m(\u001b[0m\u001b[0mcollection\u001b[0m\u001b[0;34m)\u001b[0m\u001b[0;34m:\u001b[0m\u001b[0;34m\u001b[0m\u001b[0;34m\u001b[0m\u001b[0m\n\u001b[0;32m---> 18\u001b[0;31m         \u001b[0ms\u001b[0m\u001b[0;34m.\u001b[0m\u001b[0minsert\u001b[0m\u001b[0;34m(\u001b[0m\u001b[0mlist\u001b[0m\u001b[0;34m(\u001b[0m\u001b[0mzip\u001b[0m\u001b[0;34m(\u001b[0m\u001b[0mts\u001b[0m\u001b[0;34m,\u001b[0m \u001b[0mmeas\u001b[0m\u001b[0;34m[\u001b[0m\u001b[0ms\u001b[0m\u001b[0;34m.\u001b[0m\u001b[0mname\u001b[0m\u001b[0;34m]\u001b[0m\u001b[0;34m.\u001b[0m\u001b[0mtolist\u001b[0m\u001b[0;34m(\u001b[0m\u001b[0;34m)\u001b[0m\u001b[0;34m)\u001b[0m\u001b[0;34m)\u001b[0m\u001b[0;34m)\u001b[0m\u001b[0;34m\u001b[0m\u001b[0;34m\u001b[0m\u001b[0m\n\u001b[0m\u001b[1;32m     19\u001b[0m         \u001b[0mprint\u001b[0m\u001b[0;34m(\u001b[0m\u001b[0;34m'\\t'\u001b[0m\u001b[0;34m,\u001b[0m \u001b[0ms\u001b[0m\u001b[0;34m.\u001b[0m\u001b[0mname\u001b[0m\u001b[0;34m,\u001b[0m \u001b[0;34m'\\t'\u001b[0m\u001b[0;34m,\u001b[0m \u001b[0mdatetime\u001b[0m\u001b[0;34m.\u001b[0m\u001b[0mnow\u001b[0m\u001b[0;34m(\u001b[0m\u001b[0;34m)\u001b[0m\u001b[0;34m-\u001b[0m\u001b[0mtime\u001b[0m\u001b[0;34m)\u001b[0m\u001b[0;34m\u001b[0m\u001b[0;34m\u001b[0m\u001b[0m\n",
      "\u001b[0;32m~/miniconda3/lib/python3.7/site-packages/btrdb/stream.py\u001b[0m in \u001b[0;36minsert\u001b[0;34m(self, data)\u001b[0m\n\u001b[1;32m    429\u001b[0m         \u001b[0;32mwhile\u001b[0m \u001b[0mi\u001b[0m \u001b[0;34m<\u001b[0m \u001b[0mlen\u001b[0m\u001b[0;34m(\u001b[0m\u001b[0mdata\u001b[0m\u001b[0;34m)\u001b[0m\u001b[0;34m:\u001b[0m\u001b[0;34m\u001b[0m\u001b[0;34m\u001b[0m\u001b[0m\n\u001b[1;32m    430\u001b[0m             \u001b[0mthisBatch\u001b[0m \u001b[0;34m=\u001b[0m \u001b[0mdata\u001b[0m\u001b[0;34m[\u001b[0m\u001b[0mi\u001b[0m\u001b[0;34m:\u001b[0m\u001b[0mi\u001b[0m \u001b[0;34m+\u001b[0m \u001b[0mINSERT_BATCH_SIZE\u001b[0m\u001b[0;34m]\u001b[0m\u001b[0;34m\u001b[0m\u001b[0;34m\u001b[0m\u001b[0m\n\u001b[0;32m--> 431\u001b[0;31m             \u001b[0mversion\u001b[0m \u001b[0;34m=\u001b[0m \u001b[0mself\u001b[0m\u001b[0;34m.\u001b[0m\u001b[0m_btrdb\u001b[0m\u001b[0;34m.\u001b[0m\u001b[0mep\u001b[0m\u001b[0;34m.\u001b[0m\u001b[0minsert\u001b[0m\u001b[0;34m(\u001b[0m\u001b[0mself\u001b[0m\u001b[0;34m.\u001b[0m\u001b[0m_uuid\u001b[0m\u001b[0;34m,\u001b[0m \u001b[0mthisBatch\u001b[0m\u001b[0;34m)\u001b[0m\u001b[0;34m\u001b[0m\u001b[0;34m\u001b[0m\u001b[0m\n\u001b[0m\u001b[1;32m    432\u001b[0m             \u001b[0mi\u001b[0m \u001b[0;34m+=\u001b[0m \u001b[0mINSERT_BATCH_SIZE\u001b[0m\u001b[0;34m\u001b[0m\u001b[0;34m\u001b[0m\u001b[0m\n\u001b[1;32m    433\u001b[0m         \u001b[0;32mreturn\u001b[0m \u001b[0mversion\u001b[0m\u001b[0;34m\u001b[0m\u001b[0;34m\u001b[0m\u001b[0m\n",
      "\u001b[0;32m~/miniconda3/lib/python3.7/site-packages/btrdb/endpoint.py\u001b[0m in \u001b[0;36minsert\u001b[0;34m(self, uu, values)\u001b[0m\n\u001b[1;32m    164\u001b[0m         \u001b[0mprotoValues\u001b[0m \u001b[0;34m=\u001b[0m \u001b[0mRawPoint\u001b[0m\u001b[0;34m.\u001b[0m\u001b[0mto_proto_list\u001b[0m\u001b[0;34m(\u001b[0m\u001b[0mvalues\u001b[0m\u001b[0;34m)\u001b[0m\u001b[0;34m\u001b[0m\u001b[0;34m\u001b[0m\u001b[0m\n\u001b[1;32m    165\u001b[0m         \u001b[0mparams\u001b[0m \u001b[0;34m=\u001b[0m \u001b[0mbtrdb_pb2\u001b[0m\u001b[0;34m.\u001b[0m\u001b[0mInsertParams\u001b[0m\u001b[0;34m(\u001b[0m\u001b[0muuid\u001b[0m \u001b[0;34m=\u001b[0m \u001b[0muu\u001b[0m\u001b[0;34m.\u001b[0m\u001b[0mbytes\u001b[0m\u001b[0;34m,\u001b[0m \u001b[0msync\u001b[0m \u001b[0;34m=\u001b[0m \u001b[0;32mFalse\u001b[0m\u001b[0;34m,\u001b[0m \u001b[0mvalues\u001b[0m \u001b[0;34m=\u001b[0m \u001b[0mprotoValues\u001b[0m\u001b[0;34m)\u001b[0m\u001b[0;34m\u001b[0m\u001b[0;34m\u001b[0m\u001b[0m\n\u001b[0;32m--> 166\u001b[0;31m         \u001b[0mresult\u001b[0m \u001b[0;34m=\u001b[0m \u001b[0mself\u001b[0m\u001b[0;34m.\u001b[0m\u001b[0mstub\u001b[0m\u001b[0;34m.\u001b[0m\u001b[0mInsert\u001b[0m\u001b[0;34m(\u001b[0m\u001b[0mparams\u001b[0m\u001b[0;34m)\u001b[0m\u001b[0;34m\u001b[0m\u001b[0;34m\u001b[0m\u001b[0m\n\u001b[0m\u001b[1;32m    167\u001b[0m         \u001b[0mBTrDBError\u001b[0m\u001b[0;34m.\u001b[0m\u001b[0mcheckProtoStat\u001b[0m\u001b[0;34m(\u001b[0m\u001b[0mresult\u001b[0m\u001b[0;34m.\u001b[0m\u001b[0mstat\u001b[0m\u001b[0;34m)\u001b[0m\u001b[0;34m\u001b[0m\u001b[0;34m\u001b[0m\u001b[0m\n\u001b[1;32m    168\u001b[0m         \u001b[0;32mreturn\u001b[0m \u001b[0mresult\u001b[0m\u001b[0;34m.\u001b[0m\u001b[0mversionMajor\u001b[0m\u001b[0;34m\u001b[0m\u001b[0;34m\u001b[0m\u001b[0m\n",
      "\u001b[0;32m~/miniconda3/lib/python3.7/site-packages/grpc/_channel.py\u001b[0m in \u001b[0;36m__call__\u001b[0;34m(self, request, timeout, metadata, credentials, wait_for_ready, compression)\u001b[0m\n\u001b[1;32m    824\u001b[0m         state, call, = self._blocking(request, timeout, metadata, credentials,\n\u001b[1;32m    825\u001b[0m                                       wait_for_ready, compression)\n\u001b[0;32m--> 826\u001b[0;31m         \u001b[0;32mreturn\u001b[0m \u001b[0m_end_unary_response_blocking\u001b[0m\u001b[0;34m(\u001b[0m\u001b[0mstate\u001b[0m\u001b[0;34m,\u001b[0m \u001b[0mcall\u001b[0m\u001b[0;34m,\u001b[0m \u001b[0;32mFalse\u001b[0m\u001b[0;34m,\u001b[0m \u001b[0;32mNone\u001b[0m\u001b[0;34m)\u001b[0m\u001b[0;34m\u001b[0m\u001b[0;34m\u001b[0m\u001b[0m\n\u001b[0m\u001b[1;32m    827\u001b[0m \u001b[0;34m\u001b[0m\u001b[0m\n\u001b[1;32m    828\u001b[0m     def with_call(self,\n",
      "\u001b[0;32m~/miniconda3/lib/python3.7/site-packages/grpc/_channel.py\u001b[0m in \u001b[0;36m_end_unary_response_blocking\u001b[0;34m(state, call, with_call, deadline)\u001b[0m\n\u001b[1;32m    727\u001b[0m             \u001b[0;32mreturn\u001b[0m \u001b[0mstate\u001b[0m\u001b[0;34m.\u001b[0m\u001b[0mresponse\u001b[0m\u001b[0;34m\u001b[0m\u001b[0;34m\u001b[0m\u001b[0m\n\u001b[1;32m    728\u001b[0m     \u001b[0;32melse\u001b[0m\u001b[0;34m:\u001b[0m\u001b[0;34m\u001b[0m\u001b[0;34m\u001b[0m\u001b[0m\n\u001b[0;32m--> 729\u001b[0;31m         \u001b[0;32mraise\u001b[0m \u001b[0m_InactiveRpcError\u001b[0m\u001b[0;34m(\u001b[0m\u001b[0mstate\u001b[0m\u001b[0;34m)\u001b[0m\u001b[0;34m\u001b[0m\u001b[0;34m\u001b[0m\u001b[0m\n\u001b[0m\u001b[1;32m    730\u001b[0m \u001b[0;34m\u001b[0m\u001b[0m\n\u001b[1;32m    731\u001b[0m \u001b[0;34m\u001b[0m\u001b[0m\n",
      "\u001b[0;31m_InactiveRpcError\u001b[0m: <_InactiveRpcError of RPC that terminated with:\n\tstatus = StatusCode.UNAVAILABLE\n\tdetails = \"Connection reset by peer\"\n\tdebug_error_string = \"{\"created\":\"@1605994435.207225000\",\"description\":\"Error received from peer ipv4:34.202.86.244:4411\",\"file\":\"src/core/lib/surface/call.cc\",\"file_line\":1062,\"grpc_message\":\"Connection reset by peer\",\"grpc_status\":14}\"\n>"
     ]
    }
   ],
   "source": [
    "# iterate through all hours in day\n",
    "# (takes a long time, will probably time out)\n",
    "\n",
    "time = datetime.now()\n",
    "t0 = timez.to_nanoseconds(datetime(2020,1,1))\n",
    "\n",
    "for hr in range(1,24):\n",
    "    print('hour', hr, '...')\n",
    "    \n",
    "    last = streams[-1].latest()\n",
    "    \n",
    "    if last == None:\n",
    "        pass\n",
    "    elif last[0][0] > t0 + 1e9*3600*(hr-1):\n",
    "        continue\n",
    "\n",
    "    x = loadmat(os.path.join(path_to_data, 'Hour_%i.mat'%(hr)))\n",
    "    times, meas = split_df(x)\n",
    "    \n",
    "    ts = make_ns(times)\n",
    "    \n",
    "    for j, s in enumerate(db.streams_in_collection(collection)):\n",
    "        _last = streams[j].latest()\n",
    "        if _last == None:\n",
    "            # this means stream has no data yet\n",
    "            pass\n",
    "        elif _last[0][0] == ts[-1]:\n",
    "            # skip if day already finished ingesting\n",
    "            continue\n",
    "\n",
    "        s.insert(list(zip(ts, meas[s.name].tolist())))\n",
    "        print('\\t', s.name, '\\t', datetime.now()-time)\n"
   ]
  },
  {
   "cell_type": "code",
   "execution_count": 74,
   "metadata": {},
   "outputs": [],
   "source": [
    "\n",
    "for s in streams:\n",
    "    if s.name == 'phA_amp':\n",
    "        s.obliterate()\n",
    "        s = db.create(uuid=uuid.uuid4(),\n",
    "                      collection=collection,\n",
    "                      tags={\"name\": 'phA_amp', \"unit\": 'amps'},\n",
    "#                       annotations=json.dumps(metadata)\n",
    "                     )"
   ]
  },
  {
   "cell_type": "code",
   "execution_count": 77,
   "metadata": {},
   "outputs": [
    {
     "data": {
      "text/plain": [
       "(6, 3)"
      ]
     },
     "execution_count": 77,
     "metadata": {},
     "output_type": "execute_result"
    }
   ],
   "source": [
    "len(db.streams_in_collection(collection)), j"
   ]
  },
  {
   "cell_type": "code",
   "execution_count": null,
   "metadata": {},
   "outputs": [],
   "source": [
    "import os\n",
    "duration = 1  # seconds\n",
    "freq = 440  # Hz\n",
    "os.system('play -nq -t alsa synth {} sine {}'.format(duration, freq))"
   ]
  },
  {
   "cell_type": "code",
   "execution_count": 16,
   "metadata": {},
   "outputs": [
    {
     "name": "stdout",
     "output_type": "stream",
     "text": [
      "\t 0 of 139\n",
      "\t 10 of 139\n"
     ]
    },
    {
     "ename": "_InactiveRpcError",
     "evalue": "<_InactiveRpcError of RPC that terminated with:\n\tstatus = StatusCode.UNAVAILABLE\n\tdetails = \"Broken pipe\"\n\tdebug_error_string = \"{\"created\":\"@1605859326.937908000\",\"description\":\"Error received from peer ipv4:54.227.221.51:4411\",\"file\":\"src/core/lib/surface/call.cc\",\"file_line\":1062,\"grpc_message\":\"Broken pipe\",\"grpc_status\":14}\"\n>",
     "output_type": "error",
     "traceback": [
      "\u001b[0;31m---------------------------------------------------------------------------\u001b[0m",
      "\u001b[0;31m_InactiveRpcError\u001b[0m                         Traceback (most recent call last)",
      "\u001b[0;32m<ipython-input-16-488e4c441204>\u001b[0m in \u001b[0;36m<module>\u001b[0;34m\u001b[0m\n\u001b[1;32m     11\u001b[0m     \u001b[0;32mfor\u001b[0m \u001b[0ms\u001b[0m \u001b[0;32min\u001b[0m \u001b[0mstreams\u001b[0m\u001b[0;34m:\u001b[0m\u001b[0;34m\u001b[0m\u001b[0;34m\u001b[0m\u001b[0m\n\u001b[1;32m     12\u001b[0m         \u001b[0mvals\u001b[0m \u001b[0;34m=\u001b[0m \u001b[0mmeas\u001b[0m\u001b[0;34m[\u001b[0m\u001b[0ms\u001b[0m\u001b[0;34m.\u001b[0m\u001b[0mname\u001b[0m\u001b[0;34m]\u001b[0m\u001b[0;34m.\u001b[0m\u001b[0miloc\u001b[0m\u001b[0;34m[\u001b[0m\u001b[0mst\u001b[0m\u001b[0;34m:\u001b[0m\u001b[0mend\u001b[0m\u001b[0;34m]\u001b[0m\u001b[0;34m.\u001b[0m\u001b[0mtolist\u001b[0m\u001b[0;34m(\u001b[0m\u001b[0;34m)\u001b[0m\u001b[0;34m\u001b[0m\u001b[0;34m\u001b[0m\u001b[0m\n\u001b[0;32m---> 13\u001b[0;31m         \u001b[0ms\u001b[0m\u001b[0;34m.\u001b[0m\u001b[0minsert\u001b[0m\u001b[0;34m(\u001b[0m\u001b[0mlist\u001b[0m\u001b[0;34m(\u001b[0m\u001b[0mzip\u001b[0m\u001b[0;34m(\u001b[0m\u001b[0mts\u001b[0m\u001b[0;34m,\u001b[0m \u001b[0mvals\u001b[0m\u001b[0;34m)\u001b[0m\u001b[0;34m)\u001b[0m\u001b[0;34m)\u001b[0m\u001b[0;34m\u001b[0m\u001b[0;34m\u001b[0m\u001b[0m\n\u001b[0m\u001b[1;32m     14\u001b[0m \u001b[0;34m\u001b[0m\u001b[0m\n\u001b[1;32m     15\u001b[0m     \u001b[0;32mif\u001b[0m \u001b[0mi\u001b[0m \u001b[0;34m%\u001b[0m \u001b[0;36m10\u001b[0m \u001b[0;34m==\u001b[0m \u001b[0;36m0\u001b[0m\u001b[0;34m:\u001b[0m\u001b[0;34m\u001b[0m\u001b[0;34m\u001b[0m\u001b[0m\n",
      "\u001b[0;32m~/miniconda3/lib/python3.7/site-packages/btrdb/stream.py\u001b[0m in \u001b[0;36minsert\u001b[0;34m(self, data)\u001b[0m\n\u001b[1;32m    429\u001b[0m         \u001b[0;32mwhile\u001b[0m \u001b[0mi\u001b[0m \u001b[0;34m<\u001b[0m \u001b[0mlen\u001b[0m\u001b[0;34m(\u001b[0m\u001b[0mdata\u001b[0m\u001b[0;34m)\u001b[0m\u001b[0;34m:\u001b[0m\u001b[0;34m\u001b[0m\u001b[0;34m\u001b[0m\u001b[0m\n\u001b[1;32m    430\u001b[0m             \u001b[0mthisBatch\u001b[0m \u001b[0;34m=\u001b[0m \u001b[0mdata\u001b[0m\u001b[0;34m[\u001b[0m\u001b[0mi\u001b[0m\u001b[0;34m:\u001b[0m\u001b[0mi\u001b[0m \u001b[0;34m+\u001b[0m \u001b[0mINSERT_BATCH_SIZE\u001b[0m\u001b[0;34m]\u001b[0m\u001b[0;34m\u001b[0m\u001b[0;34m\u001b[0m\u001b[0m\n\u001b[0;32m--> 431\u001b[0;31m             \u001b[0mversion\u001b[0m \u001b[0;34m=\u001b[0m \u001b[0mself\u001b[0m\u001b[0;34m.\u001b[0m\u001b[0m_btrdb\u001b[0m\u001b[0;34m.\u001b[0m\u001b[0mep\u001b[0m\u001b[0;34m.\u001b[0m\u001b[0minsert\u001b[0m\u001b[0;34m(\u001b[0m\u001b[0mself\u001b[0m\u001b[0;34m.\u001b[0m\u001b[0m_uuid\u001b[0m\u001b[0;34m,\u001b[0m \u001b[0mthisBatch\u001b[0m\u001b[0;34m)\u001b[0m\u001b[0;34m\u001b[0m\u001b[0;34m\u001b[0m\u001b[0m\n\u001b[0m\u001b[1;32m    432\u001b[0m             \u001b[0mi\u001b[0m \u001b[0;34m+=\u001b[0m \u001b[0mINSERT_BATCH_SIZE\u001b[0m\u001b[0;34m\u001b[0m\u001b[0;34m\u001b[0m\u001b[0m\n\u001b[1;32m    433\u001b[0m         \u001b[0;32mreturn\u001b[0m \u001b[0mversion\u001b[0m\u001b[0;34m\u001b[0m\u001b[0;34m\u001b[0m\u001b[0m\n",
      "\u001b[0;32m~/miniconda3/lib/python3.7/site-packages/btrdb/endpoint.py\u001b[0m in \u001b[0;36minsert\u001b[0;34m(self, uu, values)\u001b[0m\n\u001b[1;32m    164\u001b[0m         \u001b[0mprotoValues\u001b[0m \u001b[0;34m=\u001b[0m \u001b[0mRawPoint\u001b[0m\u001b[0;34m.\u001b[0m\u001b[0mto_proto_list\u001b[0m\u001b[0;34m(\u001b[0m\u001b[0mvalues\u001b[0m\u001b[0;34m)\u001b[0m\u001b[0;34m\u001b[0m\u001b[0;34m\u001b[0m\u001b[0m\n\u001b[1;32m    165\u001b[0m         \u001b[0mparams\u001b[0m \u001b[0;34m=\u001b[0m \u001b[0mbtrdb_pb2\u001b[0m\u001b[0;34m.\u001b[0m\u001b[0mInsertParams\u001b[0m\u001b[0;34m(\u001b[0m\u001b[0muuid\u001b[0m \u001b[0;34m=\u001b[0m \u001b[0muu\u001b[0m\u001b[0;34m.\u001b[0m\u001b[0mbytes\u001b[0m\u001b[0;34m,\u001b[0m \u001b[0msync\u001b[0m \u001b[0;34m=\u001b[0m \u001b[0;32mFalse\u001b[0m\u001b[0;34m,\u001b[0m \u001b[0mvalues\u001b[0m \u001b[0;34m=\u001b[0m \u001b[0mprotoValues\u001b[0m\u001b[0;34m)\u001b[0m\u001b[0;34m\u001b[0m\u001b[0;34m\u001b[0m\u001b[0m\n\u001b[0;32m--> 166\u001b[0;31m         \u001b[0mresult\u001b[0m \u001b[0;34m=\u001b[0m \u001b[0mself\u001b[0m\u001b[0;34m.\u001b[0m\u001b[0mstub\u001b[0m\u001b[0;34m.\u001b[0m\u001b[0mInsert\u001b[0m\u001b[0;34m(\u001b[0m\u001b[0mparams\u001b[0m\u001b[0;34m)\u001b[0m\u001b[0;34m\u001b[0m\u001b[0;34m\u001b[0m\u001b[0m\n\u001b[0m\u001b[1;32m    167\u001b[0m         \u001b[0mBTrDBError\u001b[0m\u001b[0;34m.\u001b[0m\u001b[0mcheckProtoStat\u001b[0m\u001b[0;34m(\u001b[0m\u001b[0mresult\u001b[0m\u001b[0;34m.\u001b[0m\u001b[0mstat\u001b[0m\u001b[0;34m)\u001b[0m\u001b[0;34m\u001b[0m\u001b[0;34m\u001b[0m\u001b[0m\n\u001b[1;32m    168\u001b[0m         \u001b[0;32mreturn\u001b[0m \u001b[0mresult\u001b[0m\u001b[0;34m.\u001b[0m\u001b[0mversionMajor\u001b[0m\u001b[0;34m\u001b[0m\u001b[0;34m\u001b[0m\u001b[0m\n",
      "\u001b[0;32m~/miniconda3/lib/python3.7/site-packages/grpc/_channel.py\u001b[0m in \u001b[0;36m__call__\u001b[0;34m(self, request, timeout, metadata, credentials, wait_for_ready, compression)\u001b[0m\n\u001b[1;32m    824\u001b[0m         state, call, = self._blocking(request, timeout, metadata, credentials,\n\u001b[1;32m    825\u001b[0m                                       wait_for_ready, compression)\n\u001b[0;32m--> 826\u001b[0;31m         \u001b[0;32mreturn\u001b[0m \u001b[0m_end_unary_response_blocking\u001b[0m\u001b[0;34m(\u001b[0m\u001b[0mstate\u001b[0m\u001b[0;34m,\u001b[0m \u001b[0mcall\u001b[0m\u001b[0;34m,\u001b[0m \u001b[0;32mFalse\u001b[0m\u001b[0;34m,\u001b[0m \u001b[0;32mNone\u001b[0m\u001b[0;34m)\u001b[0m\u001b[0;34m\u001b[0m\u001b[0;34m\u001b[0m\u001b[0m\n\u001b[0m\u001b[1;32m    827\u001b[0m \u001b[0;34m\u001b[0m\u001b[0m\n\u001b[1;32m    828\u001b[0m     def with_call(self,\n",
      "\u001b[0;32m~/miniconda3/lib/python3.7/site-packages/grpc/_channel.py\u001b[0m in \u001b[0;36m_end_unary_response_blocking\u001b[0;34m(state, call, with_call, deadline)\u001b[0m\n\u001b[1;32m    727\u001b[0m             \u001b[0;32mreturn\u001b[0m \u001b[0mstate\u001b[0m\u001b[0;34m.\u001b[0m\u001b[0mresponse\u001b[0m\u001b[0;34m\u001b[0m\u001b[0;34m\u001b[0m\u001b[0m\n\u001b[1;32m    728\u001b[0m     \u001b[0;32melse\u001b[0m\u001b[0;34m:\u001b[0m\u001b[0;34m\u001b[0m\u001b[0;34m\u001b[0m\u001b[0m\n\u001b[0;32m--> 729\u001b[0;31m         \u001b[0;32mraise\u001b[0m \u001b[0m_InactiveRpcError\u001b[0m\u001b[0;34m(\u001b[0m\u001b[0mstate\u001b[0m\u001b[0;34m)\u001b[0m\u001b[0;34m\u001b[0m\u001b[0;34m\u001b[0m\u001b[0m\n\u001b[0m\u001b[1;32m    730\u001b[0m \u001b[0;34m\u001b[0m\u001b[0m\n\u001b[1;32m    731\u001b[0m \u001b[0;34m\u001b[0m\u001b[0m\n",
      "\u001b[0;31m_InactiveRpcError\u001b[0m: <_InactiveRpcError of RPC that terminated with:\n\tstatus = StatusCode.UNAVAILABLE\n\tdetails = \"Broken pipe\"\n\tdebug_error_string = \"{\"created\":\"@1605859326.937908000\",\"description\":\"Error received from peer ipv4:54.227.221.51:4411\",\"file\":\"src/core/lib/surface/call.cc\",\"file_line\":1062,\"grpc_message\":\"Broken pipe\",\"grpc_status\":14}\"\n>"
     ]
    }
   ],
   "source": [
    "# hr = 3\n",
    "# x = loadmat(os.path.join(path_to_data, 'Hour_%i.mat'%(hr)))\n",
    "# times, meas = split_df(x)\n",
    "\n",
    "# print(times.shape, meas.shape)\n",
    "\n",
    "# ixs = np.arange(0, len(meas)+1, 100000)\n",
    "for i, (st, end) in enumerate(zip(ixs[i:-1], ixs[i+1:])):\n",
    "\n",
    "    ts = make_ts(times.iloc[st:end])\n",
    "    for s in streams:\n",
    "        vals = meas[s.name].iloc[st:end].tolist()\n",
    "        s.insert(list(zip(ts, vals)))\n",
    "\n",
    "    if i % 10 == 0:\n",
    "        print ('\\t', i, 'of', len(ixs))\n"
   ]
  },
  {
   "cell_type": "code",
   "execution_count": 14,
   "metadata": {},
   "outputs": [
    {
     "data": {
      "text/plain": [
       "19"
      ]
     },
     "execution_count": 14,
     "metadata": {},
     "output_type": "execute_result"
    }
   ],
   "source": [
    "i"
   ]
  },
  {
   "cell_type": "code",
   "execution_count": null,
   "metadata": {},
   "outputs": [],
   "source": []
  }
 ],
 "metadata": {
  "kernelspec": {
   "display_name": "Python 3",
   "language": "python",
   "name": "python3"
  },
  "language_info": {
   "codemirror_mode": {
    "name": "ipython",
    "version": 3
   },
   "file_extension": ".py",
   "mimetype": "text/x-python",
   "name": "python",
   "nbconvert_exporter": "python",
   "pygments_lexer": "ipython3",
   "version": "3.7.7"
  }
 },
 "nbformat": 4,
 "nbformat_minor": 4
}
