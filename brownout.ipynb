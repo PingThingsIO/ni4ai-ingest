{
 "cells": [
  {
   "cell_type": "code",
   "execution_count": 1,
   "metadata": {},
   "outputs": [],
   "source": [
    "# ! pip install btrdb\n",
    "\n",
    "import btrdb\n",
    "import pandas as pd\n",
    "import os\n",
    "import uuid\n",
    "\n",
    "from datetime import datetime, timedelta\n",
    "\n",
    "%timeit"
   ]
  },
  {
   "cell_type": "code",
   "execution_count": 4,
   "metadata": {},
   "outputs": [
    {
     "name": "stdout",
     "output_type": "stream",
     "text": [
      "202 µs ± 16.1 µs per loop (mean ± std. dev. of 7 runs, 10000 loops each)\n"
     ]
    }
   ],
   "source": [
    "%%timeit\n",
    "api_key = '' #Insert your own API key \n",
    "\n",
    "db = btrdb.connect(\"api.ni4ai.org:4411\", apikey=api_key)"
   ]
  },
  {
   "cell_type": "code",
   "execution_count": 10,
   "metadata": {},
   "outputs": [
    {
     "name": "stdout",
     "output_type": "stream",
     "text": [
      "0:00:00.160310\n"
     ]
    }
   ],
   "source": [
    "t = datetime.now()\n",
    "path = os.path.join('..','..','data','disturbance')\n",
    "df = pd.read_csv(os.path.join(path, 'texas_data.csv'))\n",
    "\n",
    "print(datetime.now()-t)"
   ]
  },
  {
   "cell_type": "code",
   "execution_count": 11,
   "metadata": {},
   "outputs": [
    {
     "data": {
      "text/html": [
       "<div>\n",
       "<style scoped>\n",
       "    .dataframe tbody tr th:only-of-type {\n",
       "        vertical-align: middle;\n",
       "    }\n",
       "\n",
       "    .dataframe tbody tr th {\n",
       "        vertical-align: top;\n",
       "    }\n",
       "\n",
       "    .dataframe thead th {\n",
       "        text-align: right;\n",
       "    }\n",
       "</style>\n",
       "<table border=\"1\" class=\"dataframe\">\n",
       "  <thead>\n",
       "    <tr style=\"text-align: right;\">\n",
       "      <th></th>\n",
       "      <th>Timestamp</th>\n",
       "      <th>CLOUD:V1LPM_Magnitude</th>\n",
       "      <th>CLOUD:V1LPM_Angle</th>\n",
       "      <th>HARRIS:V1LPM_Magnitude</th>\n",
       "      <th>HARRIS:V1LPM_Angle</th>\n",
       "      <th>CONROE:V1LPM_Magnitude</th>\n",
       "      <th>CONROE:V1LPM_Angle</th>\n",
       "      <th>CLOUD:Frequency</th>\n",
       "      <th>HARRIS:Frequency</th>\n",
       "      <th>CONROE:Frequency</th>\n",
       "    </tr>\n",
       "  </thead>\n",
       "  <tbody>\n",
       "    <tr>\n",
       "      <th>0</th>\n",
       "      <td>00:00.0</td>\n",
       "      <td>40.3226</td>\n",
       "      <td>32.5216</td>\n",
       "      <td>67209.5781</td>\n",
       "      <td>-173.3824</td>\n",
       "      <td>40097.7813</td>\n",
       "      <td>135.5679</td>\n",
       "      <td>60.0218</td>\n",
       "      <td>59.9947</td>\n",
       "      <td>59.9657</td>\n",
       "    </tr>\n",
       "    <tr>\n",
       "      <th>1</th>\n",
       "      <td>00:00.0</td>\n",
       "      <td>40.3318</td>\n",
       "      <td>32.8078</td>\n",
       "      <td>67206.1719</td>\n",
       "      <td>-173.4610</td>\n",
       "      <td>40099.1250</td>\n",
       "      <td>135.1568</td>\n",
       "      <td>60.0227</td>\n",
       "      <td>59.9944</td>\n",
       "      <td>59.9656</td>\n",
       "    </tr>\n",
       "    <tr>\n",
       "      <th>2</th>\n",
       "      <td>00:00.1</td>\n",
       "      <td>40.3372</td>\n",
       "      <td>33.0900</td>\n",
       "      <td>67201.6719</td>\n",
       "      <td>-173.5453</td>\n",
       "      <td>40099.2148</td>\n",
       "      <td>134.7479</td>\n",
       "      <td>60.0233</td>\n",
       "      <td>59.9940</td>\n",
       "      <td>59.9656</td>\n",
       "    </tr>\n",
       "    <tr>\n",
       "      <th>3</th>\n",
       "      <td>00:00.1</td>\n",
       "      <td>40.3345</td>\n",
       "      <td>33.3569</td>\n",
       "      <td>67199.3125</td>\n",
       "      <td>-173.6182</td>\n",
       "      <td>40093.8633</td>\n",
       "      <td>134.3295</td>\n",
       "      <td>60.0233</td>\n",
       "      <td>59.9938</td>\n",
       "      <td>59.9656</td>\n",
       "    </tr>\n",
       "    <tr>\n",
       "      <th>4</th>\n",
       "      <td>00:00.1</td>\n",
       "      <td>40.3272</td>\n",
       "      <td>33.6064</td>\n",
       "      <td>67196.1797</td>\n",
       "      <td>-173.6889</td>\n",
       "      <td>40085.8984</td>\n",
       "      <td>133.8997</td>\n",
       "      <td>60.0231</td>\n",
       "      <td>59.9938</td>\n",
       "      <td>59.9654</td>\n",
       "    </tr>\n",
       "  </tbody>\n",
       "</table>\n",
       "</div>"
      ],
      "text/plain": [
       "  Timestamp  CLOUD:V1LPM_Magnitude  CLOUD:V1LPM_Angle  HARRIS:V1LPM_Magnitude  \\\n",
       "0   00:00.0                40.3226            32.5216              67209.5781   \n",
       "1   00:00.0                40.3318            32.8078              67206.1719   \n",
       "2   00:00.1                40.3372            33.0900              67201.6719   \n",
       "3   00:00.1                40.3345            33.3569              67199.3125   \n",
       "4   00:00.1                40.3272            33.6064              67196.1797   \n",
       "\n",
       "   HARRIS:V1LPM_Angle  CONROE:V1LPM_Magnitude  CONROE:V1LPM_Angle  \\\n",
       "0           -173.3824              40097.7813            135.5679   \n",
       "1           -173.4610              40099.1250            135.1568   \n",
       "2           -173.5453              40099.2148            134.7479   \n",
       "3           -173.6182              40093.8633            134.3295   \n",
       "4           -173.6889              40085.8984            133.8997   \n",
       "\n",
       "   CLOUD:Frequency  HARRIS:Frequency  CONROE:Frequency  \n",
       "0          60.0218           59.9947           59.9657  \n",
       "1          60.0227           59.9944           59.9656  \n",
       "2          60.0233           59.9940           59.9656  \n",
       "3          60.0233           59.9938           59.9656  \n",
       "4          60.0231           59.9938           59.9654  "
      ]
     },
     "execution_count": 11,
     "metadata": {},
     "output_type": "execute_result"
    }
   ],
   "source": [
    "df.head()"
   ]
  },
  {
   "cell_type": "code",
   "execution_count": 12,
   "metadata": {},
   "outputs": [],
   "source": [
    "nomenclature = {'CLOUD:V1LPM_Magnitude': ('whitesands/voltage_magnitude', 'volts'),\n",
    "                'CLOUD:V1LPM_Angle': ('whitesands/voltage_angle', 'deg'),\n",
    "                \n",
    "                'HARRIS:V1LPM_Magnitude': ('centex/voltage_magnitude', 'volts'),\n",
    "                'HARRIS:V1LPM_Angle': ('centex/voltage_angle', 'deg'),\n",
    "                \n",
    "                'CONROE:V1LPM_Magnitude': ('conroe/voltage_magnitude', 'volts'),\n",
    "                'CONROE:V1LPM_Angle': ('conroe/voltage_angle', 'deg'),\n",
    "                \n",
    "                'CLOUD:Frequency': ('whitesands/frequency','Hz'),\n",
    "                'HARRIS:Frequency': ('centex/frequency','Hz'),\n",
    "                'CONROE:Frequency': ('conroe/frequency','Hz'),\n",
    "               }"
   ]
  },
  {
   "cell_type": "code",
   "execution_count": 13,
   "metadata": {},
   "outputs": [],
   "source": [
    "datetimes = pd.date_range(start=datetime(2020,9,7,0,0), \n",
    "                          end=datetime(2020,9,7,1,0), \n",
    "                          freq='%ins'%(1e9*1./30))\n",
    "\n",
    "ns_timestamps = [btrdb.utils.timez.to_nanoseconds(t) for t in datetimes]\n",
    "ns_timestamps = ns_timestamps[:len(df)]"
   ]
  },
  {
   "cell_type": "code",
   "execution_count": 17,
   "metadata": {},
   "outputs": [
    {
     "name": "stdout",
     "output_type": "stream",
     "text": [
      "voltage_magnitude 107959\n",
      "voltage_angle 107959\n",
      "voltage_magnitude 107959\n",
      "voltage_angle 107959\n",
      "voltage_magnitude 107959\n",
      "voltage_angle 107959\n",
      "frequency 107959\n",
      "frequency 107959\n",
      "frequency 107959\n",
      "971631 9\n",
      "0:00:11.640653\n"
     ]
    }
   ],
   "source": [
    "t = datetime.now()\n",
    "dataset = \"lndunn/brownout\"\n",
    "\n",
    "points = 0\n",
    "streams = 0\n",
    "for col in df.keys():\n",
    "    if col == 'Timestamp':\n",
    "        pass\n",
    "    else:\n",
    "        stream_name, units = nomenclature[col]\n",
    "        sensor_name, stream_name = os.path.split(stream_name)\n",
    "        collection = os.path.join(dataset, sensor_name)\n",
    "        \n",
    "        stream = db.create(uuid=uuid.uuid4(),\n",
    "                        collection=collection,\n",
    "                        tags={\"name\": stream_name, \"unit\": units})\n",
    "            \n",
    "        # insert values into the new stream\n",
    "        stream.insert(list(zip(ns_timestamps, df[col].tolist())))\n",
    "        \n",
    "        print(stream_name, len(df))\n",
    "        points += len(df)\n",
    "        streams += 1\n",
    "        \n",
    "print(points, streams)\n",
    "\n",
    "print(datetime.now()-t)"
   ]
  },
  {
   "cell_type": "code",
   "execution_count": 16,
   "metadata": {},
   "outputs": [
    {
     "name": "stdout",
     "output_type": "stream",
     "text": [
      "<Stream collection=lndunn/brownout/cloud name=voltage_magnitude>\n",
      "<Stream collection=lndunn/brownout/cloud name=voltage_angle>\n",
      "<Stream collection=lndunn/brownout/harris name=voltage_magnitude>\n",
      "<Stream collection=lndunn/brownout/harris name=voltage_angle>\n",
      "<Stream collection=lndunn/brownout/conroe name=voltage_magnitude>\n",
      "<Stream collection=lndunn/brownout/conroe name=voltage_angle>\n",
      "<Stream collection=lndunn/brownout/cloud name=frequency>\n",
      "<Stream collection=lndunn/brownout/harris name=frequency>\n",
      "<Stream collection=lndunn/brownout/conroe name=frequency>\n",
      "<Stream collection=lndunn/brownout/whitesands name=voltage_magnitude>\n",
      "<Stream collection=lndunn/brownout/whitesands name=voltage_angle>\n",
      "<Stream collection=lndunn/brownout/centex name=voltage_magnitude>\n",
      "<Stream collection=lndunn/brownout/centex name=voltage_angle>\n"
     ]
    }
   ],
   "source": [
    "def remove_streams(collection, stream_names=None):\n",
    "    if stream_names == None:\n",
    "        streams = db.streams_in_collection(collection)\n",
    "        for s in streams:\n",
    "            s.obliterate()\n",
    "            print(s)\n",
    "            \n",
    "remove_streams('lndunn/brownout')"
   ]
  },
  {
   "cell_type": "code",
   "execution_count": 21,
   "metadata": {},
   "outputs": [
    {
     "name": "stdout",
     "output_type": "stream",
     "text": [
      "78\n"
     ]
    }
   ],
   "source": []
  },
  {
   "cell_type": "code",
   "execution_count": 36,
   "metadata": {},
   "outputs": [
    {
     "ename": "NameError",
     "evalue": "name 'ns_to_datetime' is not defined",
     "output_type": "error",
     "traceback": [
      "\u001b[0;31m---------------------------------------------------------------------------\u001b[0m",
      "\u001b[0;31mNameError\u001b[0m                                 Traceback (most recent call last)",
      "\u001b[0;32m<ipython-input-36-b6bddeb1b166>\u001b[0m in \u001b[0;36m<module>\u001b[0;34m\u001b[0m\n\u001b[1;32m      1\u001b[0m \u001b[0mpoints\u001b[0m \u001b[0;34m=\u001b[0m \u001b[0;36m0\u001b[0m\u001b[0;34m\u001b[0m\u001b[0;34m\u001b[0m\u001b[0m\n\u001b[1;32m      2\u001b[0m \u001b[0;32mfor\u001b[0m \u001b[0ms\u001b[0m \u001b[0;32min\u001b[0m \u001b[0mstreams\u001b[0m\u001b[0;34m:\u001b[0m\u001b[0;34m\u001b[0m\u001b[0;34m\u001b[0m\u001b[0m\n\u001b[0;32m----> 3\u001b[0;31m     \u001b[0mprint\u001b[0m\u001b[0;34m(\u001b[0m\u001b[0mns_to_datetime\u001b[0m\u001b[0;34m(\u001b[0m\u001b[0ms\u001b[0m\u001b[0;34m.\u001b[0m\u001b[0mlatest\u001b[0m\u001b[0;34m(\u001b[0m\u001b[0;34m)\u001b[0m\u001b[0;34m[\u001b[0m\u001b[0;36m0\u001b[0m\u001b[0;34m]\u001b[0m\u001b[0;34m[\u001b[0m\u001b[0;36m0\u001b[0m\u001b[0;34m]\u001b[0m\u001b[0;34m)\u001b[0m\u001b[0;34m)\u001b[0m\u001b[0;34m\u001b[0m\u001b[0;34m\u001b[0m\u001b[0m\n\u001b[0m\u001b[1;32m      4\u001b[0m     \u001b[0mwindows\u001b[0m\u001b[0;34m,\u001b[0m \u001b[0m_\u001b[0m \u001b[0;34m=\u001b[0m \u001b[0mzip\u001b[0m\u001b[0;34m(\u001b[0m\u001b[0;34m*\u001b[0m\u001b[0ms\u001b[0m\u001b[0;34m.\u001b[0m\u001b[0maligned_windows\u001b[0m\u001b[0;34m(\u001b[0m\u001b[0mdatetime\u001b[0m\u001b[0;34m(\u001b[0m\u001b[0;36m2001\u001b[0m\u001b[0;34m,\u001b[0m\u001b[0;36m1\u001b[0m\u001b[0;34m,\u001b[0m\u001b[0;36m1\u001b[0m\u001b[0;34m)\u001b[0m\u001b[0;34m,\u001b[0m \u001b[0mdatetime\u001b[0m\u001b[0;34m.\u001b[0m\u001b[0mnow\u001b[0m\u001b[0;34m(\u001b[0m\u001b[0;34m)\u001b[0m\u001b[0;34m,\u001b[0m \u001b[0;36m62\u001b[0m\u001b[0;34m)\u001b[0m\u001b[0;34m)\u001b[0m\u001b[0;34m\u001b[0m\u001b[0;34m\u001b[0m\u001b[0m\n\u001b[1;32m      5\u001b[0m     \u001b[0;32mfor\u001b[0m \u001b[0mwindow\u001b[0m \u001b[0;32min\u001b[0m \u001b[0mwindows\u001b[0m\u001b[0;34m:\u001b[0m\u001b[0;34m\u001b[0m\u001b[0;34m\u001b[0m\u001b[0m\n",
      "\u001b[0;31mNameError\u001b[0m: name 'ns_to_datetime' is not defined"
     ]
    }
   ],
   "source": [
    "points = 0\n",
    "for s in streams:\n",
    "    print(ns_to_datetime(s.latest()[0][0]))\n",
    "    windows, _ = zip(*s.aligned_windows(datetime(2001,1,1), datetime.now(), 62))\n",
    "    for window in windows:\n",
    "        print(window.count)\n",
    "        points += window.count"
   ]
  },
  {
   "cell_type": "code",
   "execution_count": null,
   "metadata": {},
   "outputs": [],
   "source": []
  }
 ],
 "metadata": {
  "kernelspec": {
   "display_name": "Python 3",
   "language": "python",
   "name": "python3"
  },
  "language_info": {
   "codemirror_mode": {
    "name": "ipython",
    "version": 3
   },
   "file_extension": ".py",
   "mimetype": "text/x-python",
   "name": "python",
   "nbconvert_exporter": "python",
   "pygments_lexer": "ipython3",
   "version": "3.7.7"
  }
 },
 "nbformat": 4,
 "nbformat_minor": 4
}
