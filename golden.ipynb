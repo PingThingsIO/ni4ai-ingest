{
 "cells": [
  {
   "cell_type": "code",
   "execution_count": 1,
   "metadata": {},
   "outputs": [],
   "source": [
    "import numpy as np\n",
    "import pandas as pd\n",
    "import matplotlib.pyplot as plt\n",
    "\n",
    "from datetime import datetime, timedelta\n",
    "\n",
    "import btrdb\n",
    "from btrdb.utils.timez import ns_delta, ns_to_datetime, to_nanoseconds"
   ]
  },
  {
   "cell_type": "code",
   "execution_count": 2,
   "metadata": {},
   "outputs": [],
   "source": [
    "YOUR_API_KEY = '2301C47D67FB1C2C48D0CC7B'\n",
    "\n",
    "#Establishing the connecting to the server\n",
    "db = btrdb.connect(\"api.ni4ai.org:4411\", apikey=YOUR_API_KEY)\n"
   ]
  },
  {
   "cell_type": "code",
   "execution_count": 3,
   "metadata": {},
   "outputs": [],
   "source": [
    "streams = db.streams_in_collection('golden')\n",
    "streams = [s for s in streams if s.name == 'LSTATE']"
   ]
  },
  {
   "cell_type": "code",
   "execution_count": 4,
   "metadata": {},
   "outputs": [
    {
     "data": {
      "text/plain": [
       "10"
      ]
     },
     "execution_count": 4,
     "metadata": {},
     "output_type": "execute_result"
    }
   ],
   "source": [
    "len(streams)"
   ]
  },
  {
   "cell_type": "code",
   "execution_count": 7,
   "metadata": {},
   "outputs": [],
   "source": [
    "first = np.inf\n",
    "last = -np.inf\n",
    "for s in streams:\n",
    "    (start, val), _ = s.earliest()\n",
    "    (end, val), _ = s.latest()\n",
    "    \n",
    "    if start < first:\n",
    "        first = int(start)\n",
    "    if end > last:\n",
    "        last = int(end)\n",
    "        "
   ]
  },
  {
   "cell_type": "code",
   "execution_count": 13,
   "metadata": {},
   "outputs": [],
   "source": [
    "pw = 44\n",
    "points = s.aligned_windows(first, last, pw)"
   ]
  },
  {
   "cell_type": "code",
   "execution_count": 14,
   "metadata": {},
   "outputs": [],
   "source": [
    "times, counts = zip(*[(p.time, p.count) for p,_ in points])"
   ]
  },
  {
   "cell_type": "code",
   "execution_count": 15,
   "metadata": {},
   "outputs": [
    {
     "data": {
      "text/plain": [
       "(1226, 1226)"
      ]
     },
     "execution_count": 15,
     "metadata": {},
     "output_type": "execute_result"
    }
   ],
   "source": [
    "len(times), len(counts)"
   ]
  },
  {
   "cell_type": "code",
   "execution_count": 16,
   "metadata": {},
   "outputs": [],
   "source": [
    "pw = 50\n",
    "counts = []\n",
    "for s in streams:\n",
    "    points = s.aligned_windows(first, last, pw)\n",
    "    t, c = zip(*[(ns_to_datetime(p.time), p.count) for p, _ in points])\n",
    "    counts.append(pd.Series(c, index=t))\n"
   ]
  },
  {
   "cell_type": "code",
   "execution_count": 21,
   "metadata": {},
   "outputs": [
    {
     "data": {
      "image/png": "[encoded data removed]",
      "text/plain": [
       "<Figure size 720x216 with 1 Axes>"
      ]
     },
     "metadata": {
      "needs_background": "light"
     },
     "output_type": "display_data"
    }
   ],
   "source": [
    "df = pd.concat(counts, axis=1).sort_index().iloc[1:]\n",
    "fig, ax = plt.subplots(figsize=(10,3))\n",
    "ax.plot(df.index, pd.notnull(df).sum(axis=1).tolist())\n",
    "ax.vlines([datetime(2017,3,1), datetime(2017,6,1)], 2,10)\n",
    "plt.show()"
   ]
  },
  {
   "cell_type": "code",
   "execution_count": 24,
   "metadata": {},
   "outputs": [],
   "source": [
    "pw = 36\n",
    "points = s.aligned_windows(to_nanoseconds(datetime(2017,3,1)), to_nanoseconds(datetime(2017,6,1)), pw)"
   ]
  },
  {
   "cell_type": "code",
   "execution_count": 40,
   "metadata": {},
   "outputs": [],
   "source": [
    "counts = []\n",
    "for s in streams:\n",
    "    points = s.aligned_windows(first, last, pw)\n",
    "    t, c = zip(*[(ns_to_datetime(p.time), p.count) for p, _ in points])\n",
    "    counts.append(pd.Series(c, index=t))"
   ]
  },
  {
   "cell_type": "code",
   "execution_count": 41,
   "metadata": {},
   "outputs": [],
   "source": [
    "df = pd.DataFrame(columns=range(len(counts)), index=counts[0].index)\n",
    "for i in range(len(counts)):\n",
    "    df[i] = counts[i]"
   ]
  },
  {
   "cell_type": "code",
   "execution_count": 62,
   "metadata": {},
   "outputs": [
    {
     "data": {
      "text/plain": [
       "['golden/PMU8',\n",
       " 'golden/PMU3',\n",
       " 'golden/PMU7',\n",
       " 'golden/PMU9',\n",
       " 'golden/PMU2',\n",
       " 'golden/PMU4',\n",
       " 'golden/PMU5',\n",
       " 'golden/PMU6',\n",
       " 'golden/PMU1',\n",
       " 'golden/PMU10']"
      ]
     },
     "execution_count": 62,
     "metadata": {},
     "output_type": "execute_result"
    }
   ],
   "source": [
    "[s.collection for s in streams]"
   ]
  },
  {
   "cell_type": "code",
   "execution_count": 45,
   "metadata": {},
   "outputs": [
    {
     "data": {
      "text/plain": [
       "Timestamp('2000-12-30 23:59:49.264286+0000', tz='UTC')"
      ]
     },
     "execution_count": 45,
     "metadata": {},
     "output_type": "execute_result"
    }
   ],
   "source": [
    "df.index[0]"
   ]
  },
  {
   "cell_type": "code",
   "execution_count": 55,
   "metadata": {},
   "outputs": [],
   "source": [
    "from datetime import timezone, timedelta\n",
    "\n",
    "idx = df.index >= datetime(2017,3,1, tzinfo=timezone(timedelta(hours=0)))\n",
    "idx &= df.index <= datetime(2017,6,1, tzinfo=timezone(timedelta(hours=0)))"
   ]
  },
  {
   "cell_type": "code",
   "execution_count": 60,
   "metadata": {},
   "outputs": [
    {
     "name": "stdout",
     "output_type": "stream",
     "text": [
      "0 2017-03-01 00:00:27.148288+00:00 2017-07-18 12:22:59.282027+00:00\n",
      "1 2017-03-14 23:59:18.658318+00:00 2017-07-18 12:22:59.282027+00:00\n",
      "2 2017-03-01 00:00:27.148288+00:00 2017-07-18 12:22:59.282027+00:00\n",
      "3 2017-03-01 00:00:27.148288+00:00 2017-06-27 22:28:51.540959+00:00\n",
      "4 2017-03-01 00:00:27.148288+00:00 2017-07-18 12:22:59.282027+00:00\n",
      "5 2017-03-01 00:00:27.148288+00:00 2017-07-18 12:22:59.282027+00:00\n",
      "6 2017-03-01 00:00:27.148288+00:00 2017-07-18 12:22:59.282027+00:00\n",
      "7 2017-03-01 00:00:27.148288+00:00 2017-07-18 12:22:59.282027+00:00\n",
      "8 2017-03-01 00:00:27.148288+00:00 2017-06-04 02:41:48.334809+00:00\n",
      "9 2017-03-01 00:00:27.148288+00:00 2017-07-18 12:22:59.282027+00:00\n"
     ]
    }
   ],
   "source": [
    "for col in df[idx].keys():\n",
    "    print(col, df[idx][pd.notnull(df[idx][col])].index.min(), df[pd.notnull(df[col])].index.max())"
   ]
  },
  {
   "cell_type": "code",
   "execution_count": null,
   "metadata": {},
   "outputs": [],
   "source": [
    "fig, ax = plt.subplots()\n",
    "ax.plot(stream_avail)"
   ]
  },
  {
   "cell_type": "code",
   "execution_count": 14,
   "metadata": {},
   "outputs": [
    {
     "data": {
      "text/html": [
       "<div>\n",
       "<style scoped>\n",
       "    .dataframe tbody tr th:only-of-type {\n",
       "        vertical-align: middle;\n",
       "    }\n",
       "\n",
       "    .dataframe tbody tr th {\n",
       "        vertical-align: top;\n",
       "    }\n",
       "\n",
       "    .dataframe thead th {\n",
       "        text-align: right;\n",
       "    }\n",
       "</style>\n",
       "<table border=\"1\" class=\"dataframe\">\n",
       "  <thead>\n",
       "    <tr style=\"text-align: right;\">\n",
       "      <th></th>\n",
       "      <th>C2MAG</th>\n",
       "      <th>LSTATE</th>\n",
       "      <th>LSTATE</th>\n",
       "      <th>L3ANG</th>\n",
       "      <th>L1ANG</th>\n",
       "      <th>L3ANG</th>\n",
       "      <th>L3MAG</th>\n",
       "      <th>L1ANG</th>\n",
       "      <th>L1MAG</th>\n",
       "      <th>C2ANG</th>\n",
       "      <th>...</th>\n",
       "      <th>L3ANG</th>\n",
       "      <th>C3MAG</th>\n",
       "      <th>C3ANG</th>\n",
       "      <th>L1MAG</th>\n",
       "      <th>LSTATE</th>\n",
       "      <th>C3MAG</th>\n",
       "      <th>C2MAG</th>\n",
       "      <th>C2MAG</th>\n",
       "      <th>C2ANG</th>\n",
       "      <th>L1MAG</th>\n",
       "    </tr>\n",
       "  </thead>\n",
       "  <tbody>\n",
       "    <tr>\n",
       "      <th>2000-12-30 23:59:57.008333+00:00</th>\n",
       "      <td>0</td>\n",
       "      <td>120</td>\n",
       "      <td>240</td>\n",
       "      <td>0</td>\n",
       "      <td>240</td>\n",
       "      <td>0</td>\n",
       "      <td>0</td>\n",
       "      <td>0</td>\n",
       "      <td>240</td>\n",
       "      <td>0</td>\n",
       "      <td>...</td>\n",
       "      <td>0</td>\n",
       "      <td>0</td>\n",
       "      <td>120</td>\n",
       "      <td>0</td>\n",
       "      <td>240</td>\n",
       "      <td>0</td>\n",
       "      <td>0</td>\n",
       "      <td>0</td>\n",
       "      <td>0</td>\n",
       "      <td>0</td>\n",
       "    </tr>\n",
       "    <tr>\n",
       "      <th>2000-12-31 23:59:57.008333+00:00</th>\n",
       "      <td>0</td>\n",
       "      <td>0</td>\n",
       "      <td>0</td>\n",
       "      <td>0</td>\n",
       "      <td>0</td>\n",
       "      <td>0</td>\n",
       "      <td>0</td>\n",
       "      <td>0</td>\n",
       "      <td>0</td>\n",
       "      <td>0</td>\n",
       "      <td>...</td>\n",
       "      <td>0</td>\n",
       "      <td>0</td>\n",
       "      <td>0</td>\n",
       "      <td>0</td>\n",
       "      <td>0</td>\n",
       "      <td>0</td>\n",
       "      <td>0</td>\n",
       "      <td>0</td>\n",
       "      <td>0</td>\n",
       "      <td>0</td>\n",
       "    </tr>\n",
       "    <tr>\n",
       "      <th>2001-01-01 23:59:57.008333+00:00</th>\n",
       "      <td>0</td>\n",
       "      <td>0</td>\n",
       "      <td>0</td>\n",
       "      <td>0</td>\n",
       "      <td>0</td>\n",
       "      <td>0</td>\n",
       "      <td>0</td>\n",
       "      <td>0</td>\n",
       "      <td>0</td>\n",
       "      <td>0</td>\n",
       "      <td>...</td>\n",
       "      <td>0</td>\n",
       "      <td>0</td>\n",
       "      <td>0</td>\n",
       "      <td>0</td>\n",
       "      <td>0</td>\n",
       "      <td>0</td>\n",
       "      <td>0</td>\n",
       "      <td>0</td>\n",
       "      <td>0</td>\n",
       "      <td>0</td>\n",
       "    </tr>\n",
       "    <tr>\n",
       "      <th>2001-01-02 23:59:57.008333+00:00</th>\n",
       "      <td>0</td>\n",
       "      <td>0</td>\n",
       "      <td>0</td>\n",
       "      <td>0</td>\n",
       "      <td>0</td>\n",
       "      <td>0</td>\n",
       "      <td>0</td>\n",
       "      <td>0</td>\n",
       "      <td>0</td>\n",
       "      <td>0</td>\n",
       "      <td>...</td>\n",
       "      <td>0</td>\n",
       "      <td>0</td>\n",
       "      <td>0</td>\n",
       "      <td>0</td>\n",
       "      <td>0</td>\n",
       "      <td>0</td>\n",
       "      <td>0</td>\n",
       "      <td>0</td>\n",
       "      <td>0</td>\n",
       "      <td>0</td>\n",
       "    </tr>\n",
       "    <tr>\n",
       "      <th>2001-01-03 23:59:57.008333+00:00</th>\n",
       "      <td>0</td>\n",
       "      <td>0</td>\n",
       "      <td>0</td>\n",
       "      <td>0</td>\n",
       "      <td>0</td>\n",
       "      <td>0</td>\n",
       "      <td>0</td>\n",
       "      <td>0</td>\n",
       "      <td>0</td>\n",
       "      <td>0</td>\n",
       "      <td>...</td>\n",
       "      <td>0</td>\n",
       "      <td>0</td>\n",
       "      <td>0</td>\n",
       "      <td>0</td>\n",
       "      <td>0</td>\n",
       "      <td>0</td>\n",
       "      <td>0</td>\n",
       "      <td>0</td>\n",
       "      <td>0</td>\n",
       "      <td>0</td>\n",
       "    </tr>\n",
       "  </tbody>\n",
       "</table>\n",
       "<p>5 rows × 130 columns</p>\n",
       "</div>"
      ],
      "text/plain": [
       "                                 C2MAG LSTATE LSTATE L3ANG L1ANG L3ANG L3MAG  \\\n",
       "2000-12-30 23:59:57.008333+00:00     0    120    240     0   240     0     0   \n",
       "2000-12-31 23:59:57.008333+00:00     0      0      0     0     0     0     0   \n",
       "2001-01-01 23:59:57.008333+00:00     0      0      0     0     0     0     0   \n",
       "2001-01-02 23:59:57.008333+00:00     0      0      0     0     0     0     0   \n",
       "2001-01-03 23:59:57.008333+00:00     0      0      0     0     0     0     0   \n",
       "\n",
       "                                 L1ANG L1MAG C2ANG  ... L3ANG C3MAG C3ANG  \\\n",
       "2000-12-30 23:59:57.008333+00:00     0   240     0  ...     0     0   120   \n",
       "2000-12-31 23:59:57.008333+00:00     0     0     0  ...     0     0     0   \n",
       "2001-01-01 23:59:57.008333+00:00     0     0     0  ...     0     0     0   \n",
       "2001-01-02 23:59:57.008333+00:00     0     0     0  ...     0     0     0   \n",
       "2001-01-03 23:59:57.008333+00:00     0     0     0  ...     0     0     0   \n",
       "\n",
       "                                 L1MAG LSTATE C3MAG C2MAG C2MAG C2ANG L1MAG  \n",
       "2000-12-30 23:59:57.008333+00:00     0    240     0     0     0     0     0  \n",
       "2000-12-31 23:59:57.008333+00:00     0      0     0     0     0     0     0  \n",
       "2001-01-01 23:59:57.008333+00:00     0      0     0     0     0     0     0  \n",
       "2001-01-02 23:59:57.008333+00:00     0      0     0     0     0     0     0  \n",
       "2001-01-03 23:59:57.008333+00:00     0      0     0     0     0     0     0  \n",
       "\n",
       "[5 rows x 130 columns]"
      ]
     },
     "execution_count": 14,
     "metadata": {},
     "output_type": "execute_result"
    }
   ],
   "source": [
    "stream_avail.head()"
   ]
  },
  {
   "cell_type": "code",
   "execution_count": null,
   "metadata": {},
   "outputs": [],
   "source": []
  }
 ],
 "metadata": {
  "kernelspec": {
   "display_name": "Python 3",
   "language": "python",
   "name": "python3"
  },
  "language_info": {
   "codemirror_mode": {
    "name": "ipython",
    "version": 3
   },
   "file_extension": ".py",
   "mimetype": "text/x-python",
   "name": "python",
   "nbconvert_exporter": "python",
   "pygments_lexer": "ipython3",
   "version": "3.7.7"
  }
 },
 "nbformat": 4,
 "nbformat_minor": 4
}
