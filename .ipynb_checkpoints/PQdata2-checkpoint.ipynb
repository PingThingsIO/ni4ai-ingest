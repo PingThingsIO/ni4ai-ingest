{
 "cells": [
  {
   "cell_type": "code",
   "execution_count": 1,
   "metadata": {
    "id": "SdJUme9iyf_E"
   },
   "outputs": [],
   "source": [
    "import pandas as pd\n",
    "import os\n",
    "import numpy as np\n",
    "import btrdb\n",
    "import uuid\n",
    "import json\n",
    "\n",
    "from scipy.io import loadmat\n",
    "\n",
    "from datetime import datetime, timedelta\n",
    "from btrdb.utils import timez\n",
    "\n",
    "from multiprocessing import Pool"
   ]
  },
  {
   "cell_type": "code",
   "execution_count": 101,
   "metadata": {},
   "outputs": [],
   "source": [
    "fnames = os.listdir('../data/site1/')\n",
    "f = loadmat(os.path.join('../data/site1/', fnames[0]))\n",
    "df = pd.DataFrame(f['data'], columns=['hour','minute','second','voltage'])"
   ]
  },
  {
   "cell_type": "code",
   "execution_count": 102,
   "metadata": {},
   "outputs": [
    {
     "data": {
      "text/html": [
       "<div>\n",
       "<style scoped>\n",
       "    .dataframe tbody tr th:only-of-type {\n",
       "        vertical-align: middle;\n",
       "    }\n",
       "\n",
       "    .dataframe tbody tr th {\n",
       "        vertical-align: top;\n",
       "    }\n",
       "\n",
       "    .dataframe thead th {\n",
       "        text-align: right;\n",
       "    }\n",
       "</style>\n",
       "<table border=\"1\" class=\"dataframe\">\n",
       "  <thead>\n",
       "    <tr style=\"text-align: right;\">\n",
       "      <th></th>\n",
       "      <th>hour</th>\n",
       "      <th>minute</th>\n",
       "      <th>second</th>\n",
       "      <th>voltage</th>\n",
       "    </tr>\n",
       "  </thead>\n",
       "  <tbody>\n",
       "    <tr>\n",
       "      <th>0</th>\n",
       "      <td>0.0</td>\n",
       "      <td>0.0</td>\n",
       "      <td>0.000012</td>\n",
       "      <td>-15.860944</td>\n",
       "    </tr>\n",
       "    <tr>\n",
       "      <th>1</th>\n",
       "      <td>0.0</td>\n",
       "      <td>0.0</td>\n",
       "      <td>0.000077</td>\n",
       "      <td>-11.426353</td>\n",
       "    </tr>\n",
       "    <tr>\n",
       "      <th>2</th>\n",
       "      <td>0.0</td>\n",
       "      <td>0.0</td>\n",
       "      <td>0.000142</td>\n",
       "      <td>-7.121240</td>\n",
       "    </tr>\n",
       "    <tr>\n",
       "      <th>3</th>\n",
       "      <td>0.0</td>\n",
       "      <td>0.0</td>\n",
       "      <td>0.000207</td>\n",
       "      <td>-3.010342</td>\n",
       "    </tr>\n",
       "    <tr>\n",
       "      <th>4</th>\n",
       "      <td>0.0</td>\n",
       "      <td>0.0</td>\n",
       "      <td>0.000272</td>\n",
       "      <td>1.132925</td>\n",
       "    </tr>\n",
       "  </tbody>\n",
       "</table>\n",
       "</div>"
      ],
      "text/plain": [
       "   hour  minute    second    voltage\n",
       "0   0.0     0.0  0.000012 -15.860944\n",
       "1   0.0     0.0  0.000077 -11.426353\n",
       "2   0.0     0.0  0.000142  -7.121240\n",
       "3   0.0     0.0  0.000207  -3.010342\n",
       "4   0.0     0.0  0.000272   1.132925"
      ]
     },
     "execution_count": 102,
     "metadata": {},
     "output_type": "execute_result"
    }
   ],
   "source": [
    "df.head()"
   ]
  },
  {
   "cell_type": "code",
   "execution_count": null,
   "metadata": {},
   "outputs": [],
   "source": []
  },
  {
   "cell_type": "code",
   "execution_count": 103,
   "metadata": {
    "id": "BD1Dmtb-3iVo"
   },
   "outputs": [],
   "source": [
    "laurels_api_key = '2301C47D67FB1C2C48D0CC7B'\n",
    "db = btrdb.connect(\"api.ni4ai.org:4411\", apikey=laurels_api_key)\n"
   ]
  },
  {
   "cell_type": "code",
   "execution_count": 116,
   "metadata": {
    "id": "iObQM-SP10Kh"
   },
   "outputs": [],
   "source": [
    "s1_kwargs = {#'annotations': str({'documentation': 'https://grouper.ieee.org/groups/td/pq/data/downloads/Secondary_Voltage_data.pdf',\n",
    "                   #   'measurement_params': {'sampling_rate': '256 samples per cycle',},\n",
    "                  #    'siting': {'installation': 'wall outlet',\n",
    "                    #             'nominal_voltage': '120V'}}),\n",
    "      'collection': 'lndunn/PQdata/site1',\n",
    "      'tags': {'name': 'voltage', 'unit': 'volts'}}\n",
    "\n",
    "if len(db.streams_in_collection(s1_kwargs['collection'])) == 0:\n",
    "    s1 = db.create(uuid=uuid.uuid4(), **s1_kwargs)\n",
    "\n",
    "dir1 = '../data/site1/'\n",
    "\n",
    "# s2_kwargs = {#'annotations': {'documentation': 'https://grouper.ieee.org/groups/td/pq/data/downloads/Secondary_Voltage_data.pdf',\n",
    "#                    #   'measurement_params': {'sampling_rate': '256 samples per cycle',},\n",
    "#                     #  'siting': {'installation': 'wall outlet',\n",
    "#                     #             'nominal_voltage': '120V'}},\n",
    "#       'collection': 'lndunn/PQdata/site_2',\n",
    "#       'tags': {'name': 'voltage', 'unit': 'volts'}}\n",
    "\n",
    "\n",
    "# if len(db.streams_in_collection(s2_kwargs['collection'])) == 0:\n",
    "#     s2 = db.create(uuid=uuid.uuid4(), **s2_kwargs)\n",
    "\n"
   ]
  },
  {
   "cell_type": "code",
   "execution_count": 117,
   "metadata": {
    "id": "z_o-iYHhxxFn"
   },
   "outputs": [
    {
     "name": "stdout",
     "output_type": "stream",
     "text": [
      "0:13:04.903159 Day_one_Hour_4.mat\n"
     ]
    }
   ],
   "source": [
    "def load_mat(fname):\n",
    "    def to_nano(series, unit=None):\n",
    "        if unit == None:\n",
    "            unit = series.name\n",
    "\n",
    "        if unit == 'hour':\n",
    "            return 1e9*60*60*series\n",
    "        elif unit == 'minute':\n",
    "            return 1e9*60*series\n",
    "        elif unit == 'second':\n",
    "            return 1e9*series\n",
    "\n",
    "    mat = loadmat(fname)\n",
    "    df = pd.DataFrame(mat['data'], columns=['hour','minute','second','voltage']).astype(float)\n",
    "\n",
    "    start = datetime(2020,1,1)\n",
    "    df['time'] = timez.to_nanoseconds(start) + to_nano(df['hour']) + to_nano(df['minute']) + to_nano(df['second'])\n",
    "    df['time'] = df['time'].astype(int)\n",
    "    return df[['voltage','time']].set_index('time').to_records().tolist()\n",
    "\n",
    "s1 = db.streams_in_collection(s1_kwargs['collection'])[0]\n",
    "\n",
    "for f in os.listdir(dir1)[2:]:\n",
    "    if '.mat' in f:\n",
    "        fname = os.path.join(dir1,f)\n",
    "        t0 = datetime.now()\n",
    "        s1.insert(load_mat(fname))\n",
    "        print(str(datetime.now()-t0), f)\n",
    "        break"
   ]
  },
  {
   "cell_type": "code",
   "execution_count": 118,
   "metadata": {},
   "outputs": [
    {
     "data": {
      "text/plain": [
       "['.DS_Store',\n",
       " 'Day_one_Hour_4.mat',\n",
       " 'Day_one_Hour_5.mat',\n",
       " 'Day_one_Hour_2.mat',\n",
       " 'Day_one_Hour_3.mat',\n",
       " 'Day_one_Hour_1.mat']"
      ]
     },
     "execution_count": 118,
     "metadata": {},
     "output_type": "execute_result"
    }
   ],
   "source": [
    "os.listdir(dir1)"
   ]
  },
  {
   "cell_type": "code",
   "execution_count": 27,
   "metadata": {
    "colab": {
     "base_uri": "https://localhost:8080/"
    },
    "id": "dSbxGmipyJ1P",
    "outputId": "297c1819-13a0-4bfc-8ae0-c3811b7be6b1"
   },
   "outputs": [
    {
     "data": {
      "text/plain": [
       "[(1577836800000012032, -15.860943794250488),\n",
       " (1577836800000077056, -11.426353454589844),\n",
       " (1577836800000142336, -7.121240139007568),\n",
       " (1577836800000207360, -3.0103423595428467),\n",
       " (1577836800000272384, 1.1329245567321777),\n",
       " (1577836800000337408, 5.24382209777832),\n",
       " (1577836800000402688, 9.354720115661621),\n",
       " (1577836800000467712, 13.497986793518066),\n",
       " (1577836800000532736, 17.414669036865234),\n",
       " (1577836800000598016, 21.266613006591797),\n",
       " (1577836800000663040, 25.539356231689453),\n",
       " (1577836800000728064, 29.77973175048828),\n",
       " (1577836800000793088, 33.95536804199219),\n",
       " (1577836800000858368, 37.96915817260742),\n",
       " (1577836800000923392, 41.95057678222656),\n",
       " (1577836800000988416, 45.73778533935547),\n",
       " (1577836800001053696, 49.71920394897461),\n",
       " (1577836800001118720, 53.732994079589844),\n",
       " (1577836800001183744, 57.520198822021484),\n",
       " (1577836800001248768, 61.37214279174805),\n",
       " (1577836800001314048, 65.38593292236328),\n",
       " (1577836800001379072, 69.65867614746094),\n",
       " (1577836800001444096, 73.38114166259766),\n",
       " (1577836800001509376, 77.07124328613281),\n",
       " (1577836800001574400, 80.98792266845703),\n",
       " (1577836800001639424, 84.45143127441406),\n",
       " (1577836800001704704, 88.14153289794922),\n",
       " (1577836800001769728, 91.7345199584961),\n",
       " (1577836800001834752, 94.71249389648438),\n",
       " (1577836800001899776, 96.68701934814453),\n",
       " (1577836800001965056, 98.95286560058594),\n",
       " (1577836800002030080, 103.19324493408203),\n",
       " (1577836800002095104, 107.98389434814453),\n",
       " (1577836800002160384, 111.4474105834961),\n",
       " (1577836800002225408, 115.16987609863281),\n",
       " (1577836800002290432, 118.0831069946289),\n",
       " (1577836800002355456, 120.89923858642578),\n",
       " (1577836800002420736, 123.48877716064453),\n",
       " (1577836800002485760, 125.94884490966797),\n",
       " (1577836800002550784, 128.635498046875),\n",
       " (1577836800002616064, 130.96607971191406),\n",
       " (1577836800002681088, 133.07008361816406),\n",
       " (1577836800002746112, 135.23883056640625),\n",
       " (1577836800002811136, 137.60177612304688),\n",
       " (1577836800002876416, 140.0618438720703),\n",
       " (1577836800002941440, 142.19821166992188),\n",
       " (1577836800003006464, 144.43170166015625),\n",
       " (1577836800003071744, 146.60043334960938),\n",
       " (1577836800003136768, 148.63970947265625),\n",
       " (1577836800003201792, 150.8408203125),\n",
       " (1577836800003266816, 153.1390380859375),\n",
       " (1577836800003332096, 155.40487670898438),\n",
       " (1577836800003397120, 157.80020141601562),\n",
       " (1577836800003462144, 160.03369140625),\n",
       " (1577836800003527424, 162.1376953125),\n",
       " (1577836800003592448, 163.9827423095703),\n",
       " (1577836800003657472, 165.63357543945312),\n",
       " (1577836800003722752, 166.83123779296875),\n",
       " (1577836800003787776, 167.80230712890625),\n",
       " (1577836800003852800, 168.51443481445312),\n",
       " (1577836800003917824, 169.2913055419922),\n",
       " (1577836800003983104, 169.8739471435547),\n",
       " (1577836800004048128, 170.42422485351562),\n",
       " (1577836800004113152, 171.03924560546875),\n",
       " (1577836800004178432, 171.6542510986328),\n",
       " (1577836800004243456, 172.107421875),\n",
       " (1577836800004308480, 172.65769958496094),\n",
       " (1577836800004373504, 173.07850646972656),\n",
       " (1577836800004438784, 173.53167724609375),\n",
       " (1577836800004503808, 174.14669799804688),\n",
       " (1577836800004568832, 174.56748962402344),\n",
       " (1577836800004634112, 174.98829650878906),\n",
       " (1577836800004699136, 175.44146728515625),\n",
       " (1577836800004764160, 175.76515197753906),\n",
       " (1577836800004829184, 176.02410888671875),\n",
       " (1577836800004894464, 176.44491577148438),\n",
       " (1577836800004959488, 176.47727966308594),\n",
       " (1577836800005024512, 176.54202270507812),\n",
       " (1577836800005089792, 176.60675048828125),\n",
       " (1577836800005154816, 176.5743865966797),\n",
       " (1577836800005219840, 176.47727966308594),\n",
       " (1577836800005284864, 176.1859588623047),\n",
       " (1577836800005350144, 175.4738311767578),\n",
       " (1577836800005415168, 174.0172119140625),\n",
       " (1577836800005480448, 169.1618194580078),\n",
       " (1577836800005545472, 163.04403686523438),\n",
       " (1577836800005610496, 158.7712860107422),\n",
       " (1577836800005675776, 156.1493682861328),\n",
       " (1577836800005740800, 154.53091430664062),\n",
       " (1577836800005805824, 153.2685089111328),\n",
       " (1577836800005871104, 151.97373962402344),\n",
       " (1577836800005936128, 150.03158569335938),\n",
       " (1577836800006001152, 147.31256103515625),\n",
       " (1577836800006066432, 144.36695861816406),\n",
       " (1577836800006131456, 141.48609924316406),\n",
       " (1577836800006196736, 138.73471069335938),\n",
       " (1577836800006261760, 136.3717498779297),\n",
       " (1577836800006326784, 133.8793182373047),\n",
       " (1577836800006392064, 131.41925048828125),\n",
       " (1577836800006457088, 128.79733276367188)]"
      ]
     },
     "execution_count": 27,
     "metadata": {
      "tags": []
     },
     "output_type": "execute_result"
    }
   ],
   "source": [
    "df.head(n=100).to_records().tolist()"
   ]
  },
  {
   "cell_type": "code",
   "execution_count": 16,
   "metadata": {
    "colab": {
     "base_uri": "https://localhost:8080/"
    },
    "id": "d9IhFKjwzA9l",
    "outputId": "0cff629a-755f-42bc-9289-31253b37edc8"
   },
   "outputs": [
    {
     "data": {
      "text/plain": [
       "(55286932, 4)"
      ]
     },
     "execution_count": 16,
     "metadata": {
      "tags": []
     },
     "output_type": "execute_result"
    }
   ],
   "source": [
    "x['data'].shape"
   ]
  },
  {
   "cell_type": "code",
   "execution_count": null,
   "metadata": {
    "id": "n90omoPxzC3k"
   },
   "outputs": [],
   "source": []
  }
 ],
 "metadata": {
  "colab": {
   "collapsed_sections": [],
   "name": "pqdata2.ipynb",
   "provenance": []
  },
  "kernelspec": {
   "display_name": "Python 3",
   "language": "python",
   "name": "python3"
  }
 },
 "nbformat": 4,
 "nbformat_minor": 1
}
