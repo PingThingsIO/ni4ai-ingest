{
 "cells": [
  {
   "cell_type": "code",
   "execution_count": 61,
   "metadata": {},
   "outputs": [],
   "source": [
    "import pandas_access as mdb\n",
    "from datetime import datetime, timedelta\n",
    "\n",
    "import pandas as pd\n",
    "import os\n",
    "import btrdb\n",
    "\n",
    "import urllib\n",
    "\n",
    "from btrdb.utils import timez"
   ]
  },
  {
   "cell_type": "code",
   "execution_count": 11,
   "metadata": {},
   "outputs": [],
   "source": [
    "db_path = \"../data/epri_signatures/event_db.mdb\"\n",
    "# Listing the tables.\n",
    "tables = mdb.list_tables(db_path)"
   ]
  },
  {
   "cell_type": "code",
   "execution_count": 13,
   "metadata": {},
   "outputs": [],
   "source": [
    "# tbl = tables[0]\n",
    "# print(tbl)\n",
    "# df = mdb.read_table()\n",
    "dfs = dict(zip(tables, [mdb.read_table(db_path, tbl) for tbl in tables]))"
   ]
  },
  {
   "cell_type": "code",
   "execution_count": 14,
   "metadata": {},
   "outputs": [
    {
     "data": {
      "text/plain": [
       "dict_keys(['Events', 'SiteFeeder', 'uniq_sitefeeder', 'SiteSource', 'Site', 'Table_sitenames_ids'])"
      ]
     },
     "execution_count": 14,
     "metadata": {},
     "output_type": "execute_result"
    }
   ],
   "source": [
    "dfs.keys()"
   ]
  },
  {
   "cell_type": "code",
   "execution_count": 23,
   "metadata": {},
   "outputs": [
    {
     "data": {
      "text/html": [
       "<div>\n",
       "<style scoped>\n",
       "    .dataframe tbody tr th:only-of-type {\n",
       "        vertical-align: middle;\n",
       "    }\n",
       "\n",
       "    .dataframe tbody tr th {\n",
       "        vertical-align: top;\n",
       "    }\n",
       "\n",
       "    .dataframe thead th {\n",
       "        text-align: right;\n",
       "    }\n",
       "</style>\n",
       "<table border=\"1\" class=\"dataframe\">\n",
       "  <thead>\n",
       "    <tr style=\"text-align: right;\">\n",
       "      <th></th>\n",
       "      <th>id</th>\n",
       "      <th>SiteName</th>\n",
       "      <th>FeederId</th>\n",
       "      <th>EventId</th>\n",
       "      <th>Phase</th>\n",
       "      <th>First Event</th>\n",
       "      <th>Last Event</th>\n",
       "      <th>Cause</th>\n",
       "      <th>Weather</th>\n",
       "      <th>Isolation Equipment Code</th>\n",
       "      <th>Failed Equipment Code</th>\n",
       "      <th>Details</th>\n",
       "    </tr>\n",
       "  </thead>\n",
       "  <tbody>\n",
       "    <tr>\n",
       "      <th>170</th>\n",
       "      <td>187</td>\n",
       "      <td>Site0009</td>\n",
       "      <td>F_0000065</td>\n",
       "      <td>1</td>\n",
       "      <td>2</td>\n",
       "      <td>2005-01-01 10:10:34.487</td>\n",
       "      <td>2005-01-01 10:10:39.870</td>\n",
       "      <td>Tree</td>\n",
       "      <td>Clear Weather</td>\n",
       "      <td>Recloser</td>\n",
       "      <td>LINE CUT</td>\n",
       "      <td>Fault caused line recloser lockout. Tree Outsi...</td>\n",
       "    </tr>\n",
       "    <tr>\n",
       "      <th>171</th>\n",
       "      <td>188</td>\n",
       "      <td>Site0009</td>\n",
       "      <td>F_0000065</td>\n",
       "      <td>4</td>\n",
       "      <td>2</td>\n",
       "      <td>2005-01-01 10:10:34.487</td>\n",
       "      <td>2005-01-01 10:10:39.870</td>\n",
       "      <td>Tree</td>\n",
       "      <td>Clear Weather</td>\n",
       "      <td>Recloser</td>\n",
       "      <td>LINE CUT</td>\n",
       "      <td>Fault caused line recloser lockout. Tree Outsi...</td>\n",
       "    </tr>\n",
       "    <tr>\n",
       "      <th>172</th>\n",
       "      <td>189</td>\n",
       "      <td>Site0009</td>\n",
       "      <td>F_0000065</td>\n",
       "      <td>5</td>\n",
       "      <td>2</td>\n",
       "      <td>2005-01-01 10:10:34.487</td>\n",
       "      <td>2005-01-01 10:10:39.870</td>\n",
       "      <td>Tree</td>\n",
       "      <td>Clear Weather</td>\n",
       "      <td>Recloser</td>\n",
       "      <td>LINE CUT</td>\n",
       "      <td>Fault caused line recloser lockout. Tree Outsi...</td>\n",
       "    </tr>\n",
       "    <tr>\n",
       "      <th>173</th>\n",
       "      <td>190</td>\n",
       "      <td>Site0009</td>\n",
       "      <td>F_0000065</td>\n",
       "      <td>7</td>\n",
       "      <td>2</td>\n",
       "      <td>2005-01-01 10:10:34.487</td>\n",
       "      <td>2005-01-01 10:10:39.870</td>\n",
       "      <td>Tree</td>\n",
       "      <td>Clear Weather</td>\n",
       "      <td>Recloser</td>\n",
       "      <td>LINE CUT</td>\n",
       "      <td>Fault caused line recloser lockout. Tree Outsi...</td>\n",
       "    </tr>\n",
       "    <tr>\n",
       "      <th>174</th>\n",
       "      <td>191</td>\n",
       "      <td>Site0009</td>\n",
       "      <td>F_0000061</td>\n",
       "      <td>21</td>\n",
       "      <td>1</td>\n",
       "      <td>2005-01-07 19:20:10.599</td>\n",
       "      <td>2005-01-07 19:20:10.613</td>\n",
       "      <td>Equipment</td>\n",
       "      <td>Clear Weather</td>\n",
       "      <td>CO15</td>\n",
       "      <td>FUSE</td>\n",
       "      <td>Overhead Insulator Failure. BROKEN INSULATOR</td>\n",
       "    </tr>\n",
       "    <tr>\n",
       "      <th>...</th>\n",
       "      <td>...</td>\n",
       "      <td>...</td>\n",
       "      <td>...</td>\n",
       "      <td>...</td>\n",
       "      <td>...</td>\n",
       "      <td>...</td>\n",
       "      <td>...</td>\n",
       "      <td>...</td>\n",
       "      <td>...</td>\n",
       "      <td>...</td>\n",
       "      <td>...</td>\n",
       "      <td>...</td>\n",
       "    </tr>\n",
       "    <tr>\n",
       "      <th>287</th>\n",
       "      <td>310</td>\n",
       "      <td>Site0003</td>\n",
       "      <td>F_0000050</td>\n",
       "      <td>21877</td>\n",
       "      <td>4</td>\n",
       "      <td>2007-07-30 18:28:18.000</td>\n",
       "      <td>2007-07-30 18:28:18.000</td>\n",
       "      <td>NaN</td>\n",
       "      <td>NaN</td>\n",
       "      <td>NaN</td>\n",
       "      <td>NaN</td>\n",
       "      <td>t3527 10Amp tree limb.</td>\n",
       "    </tr>\n",
       "    <tr>\n",
       "      <th>259</th>\n",
       "      <td>280</td>\n",
       "      <td>Site0002</td>\n",
       "      <td>F_0000044</td>\n",
       "      <td>21878</td>\n",
       "      <td>1</td>\n",
       "      <td>2007-07-31 13:18:56.000</td>\n",
       "      <td>2007-07-31 13:18:56.000</td>\n",
       "      <td>NaN</td>\n",
       "      <td>NaN</td>\n",
       "      <td>NaN</td>\n",
       "      <td>NaN</td>\n",
       "      <td>last of the arching</td>\n",
       "    </tr>\n",
       "    <tr>\n",
       "      <th>282</th>\n",
       "      <td>305</td>\n",
       "      <td>Site0002</td>\n",
       "      <td>F_0000047</td>\n",
       "      <td>21879</td>\n",
       "      <td>1</td>\n",
       "      <td>2007-08-30 02:06:38.000</td>\n",
       "      <td>2007-08-30 02:06:38.000</td>\n",
       "      <td>NaN</td>\n",
       "      <td>NaN</td>\n",
       "      <td>NaN</td>\n",
       "      <td>NaN</td>\n",
       "      <td>t8937 100amp lightening strike.</td>\n",
       "    </tr>\n",
       "    <tr>\n",
       "      <th>283</th>\n",
       "      <td>306</td>\n",
       "      <td>Site0002</td>\n",
       "      <td>F_0000047</td>\n",
       "      <td>21880</td>\n",
       "      <td>1</td>\n",
       "      <td>2007-08-30 04:11:34.000</td>\n",
       "      <td>2007-08-30 04:11:34.000</td>\n",
       "      <td>NaN</td>\n",
       "      <td>NaN</td>\n",
       "      <td>NaN</td>\n",
       "      <td>NaN</td>\n",
       "      <td>pick up load after lightning strik</td>\n",
       "    </tr>\n",
       "    <tr>\n",
       "      <th>290</th>\n",
       "      <td>281</td>\n",
       "      <td>Site0002</td>\n",
       "      <td>F_0000044</td>\n",
       "      <td>21881</td>\n",
       "      <td>1</td>\n",
       "      <td>2007-09-29 06:31:55.000</td>\n",
       "      <td>2007-09-29 06:31:55.000</td>\n",
       "      <td>NaN</td>\n",
       "      <td>NaN</td>\n",
       "      <td>NaN</td>\n",
       "      <td>NaN</td>\n",
       "      <td>NaN</td>\n",
       "    </tr>\n",
       "  </tbody>\n",
       "</table>\n",
       "<p>296 rows × 12 columns</p>\n",
       "</div>"
      ],
      "text/plain": [
       "      id  SiteName   FeederId  EventId  Phase              First Event  \\\n",
       "170  187  Site0009  F_0000065        1      2  2005-01-01 10:10:34.487   \n",
       "171  188  Site0009  F_0000065        4      2  2005-01-01 10:10:34.487   \n",
       "172  189  Site0009  F_0000065        5      2  2005-01-01 10:10:34.487   \n",
       "173  190  Site0009  F_0000065        7      2  2005-01-01 10:10:34.487   \n",
       "174  191  Site0009  F_0000061       21      1  2005-01-07 19:20:10.599   \n",
       "..   ...       ...        ...      ...    ...                      ...   \n",
       "287  310  Site0003  F_0000050    21877      4  2007-07-30 18:28:18.000   \n",
       "259  280  Site0002  F_0000044    21878      1  2007-07-31 13:18:56.000   \n",
       "282  305  Site0002  F_0000047    21879      1  2007-08-30 02:06:38.000   \n",
       "283  306  Site0002  F_0000047    21880      1  2007-08-30 04:11:34.000   \n",
       "290  281  Site0002  F_0000044    21881      1  2007-09-29 06:31:55.000   \n",
       "\n",
       "                  Last Event      Cause        Weather  \\\n",
       "170  2005-01-01 10:10:39.870       Tree  Clear Weather   \n",
       "171  2005-01-01 10:10:39.870       Tree  Clear Weather   \n",
       "172  2005-01-01 10:10:39.870       Tree  Clear Weather   \n",
       "173  2005-01-01 10:10:39.870       Tree  Clear Weather   \n",
       "174  2005-01-07 19:20:10.613  Equipment  Clear Weather   \n",
       "..                       ...        ...            ...   \n",
       "287  2007-07-30 18:28:18.000        NaN            NaN   \n",
       "259  2007-07-31 13:18:56.000        NaN            NaN   \n",
       "282  2007-08-30 02:06:38.000        NaN            NaN   \n",
       "283  2007-08-30 04:11:34.000        NaN            NaN   \n",
       "290  2007-09-29 06:31:55.000        NaN            NaN   \n",
       "\n",
       "    Isolation Equipment Code Failed Equipment Code  \\\n",
       "170                 Recloser              LINE CUT   \n",
       "171                 Recloser              LINE CUT   \n",
       "172                 Recloser              LINE CUT   \n",
       "173                 Recloser              LINE CUT   \n",
       "174                     CO15                  FUSE   \n",
       "..                       ...                   ...   \n",
       "287                      NaN                   NaN   \n",
       "259                      NaN                   NaN   \n",
       "282                      NaN                   NaN   \n",
       "283                      NaN                   NaN   \n",
       "290                      NaN                   NaN   \n",
       "\n",
       "                                               Details  \n",
       "170  Fault caused line recloser lockout. Tree Outsi...  \n",
       "171  Fault caused line recloser lockout. Tree Outsi...  \n",
       "172  Fault caused line recloser lockout. Tree Outsi...  \n",
       "173  Fault caused line recloser lockout. Tree Outsi...  \n",
       "174       Overhead Insulator Failure. BROKEN INSULATOR  \n",
       "..                                                 ...  \n",
       "287                             t3527 10Amp tree limb.  \n",
       "259                                last of the arching  \n",
       "282                    t8937 100amp lightening strike.  \n",
       "283                 pick up load after lightning strik  \n",
       "290                                                NaN  \n",
       "\n",
       "[296 rows x 12 columns]"
      ]
     },
     "execution_count": 23,
     "metadata": {},
     "output_type": "execute_result"
    }
   ],
   "source": [
    "dfs['Events'].sort_values('EventId')"
   ]
  },
  {
   "cell_type": "code",
   "execution_count": 19,
   "metadata": {},
   "outputs": [
    {
     "data": {
      "text/plain": [
       "92"
      ]
     },
     "execution_count": 19,
     "metadata": {},
     "output_type": "execute_result"
    }
   ],
   "source": [
    "len(dfs['Site'])"
   ]
  },
  {
   "cell_type": "code",
   "execution_count": 25,
   "metadata": {},
   "outputs": [],
   "source": [
    "\n",
    "res = urllib.request.urlopen('https://pqmon.epri.com/doe_folder/0001/0001.csv')\n"
   ]
  },
  {
   "cell_type": "code",
   "execution_count": 50,
   "metadata": {},
   "outputs": [],
   "source": [
    "with urllib.request.urlopen('https://pqmon.epri.com/doe_folder/0001/0001.csv') as response:\n",
    "   out = response.read().splitlines()"
   ]
  },
  {
   "cell_type": "code",
   "execution_count": 72,
   "metadata": {},
   "outputs": [],
   "source": [
    "start = datetime.strptime(out[0].decode(\"utf-8\").split(' - ')[1], \"%m/%d/%Y %H:%M:%S.%f\")"
   ]
  },
  {
   "cell_type": "code",
   "execution_count": 74,
   "metadata": {},
   "outputs": [
    {
     "name": "stdout",
     "output_type": "stream",
     "text": [
      "['time (s)', 'Va', 'Vb', 'Vc', 'Ia', 'Ib', 'Ic', 'In']\n"
     ]
    }
   ],
   "source": [
    "cols = out[2].decode(\"utf-8\").split(', ')\n",
    "cols[0] = 'time (s)'\n",
    "cols[-1] = cols[-1]\n",
    "print(cols)"
   ]
  },
  {
   "cell_type": "code",
   "execution_count": 93,
   "metadata": {},
   "outputs": [],
   "source": [
    "row0 = 3\n",
    "df = pd.DataFrame(index=range(row0,len(out)-row0), columns=cols)\n",
    "for i in df.index:\n",
    "    newrow = pd.Series(out[i].decode(\"utf-8\").split(', '),\n",
    "                      index=cols).astype(float)\n",
    "    \n",
    "    df.loc[i] = newrow"
   ]
  },
  {
   "cell_type": "code",
   "execution_count": 94,
   "metadata": {},
   "outputs": [
    {
     "data": {
      "text/plain": [
       "time (s)    object\n",
       "Va          object\n",
       "Vb          object\n",
       "Vc          object\n",
       "Ia          object\n",
       "Ib          object\n",
       "Ic          object\n",
       "In          object\n",
       "dtype: object"
      ]
     },
     "execution_count": 94,
     "metadata": {},
     "output_type": "execute_result"
    }
   ],
   "source": [
    "df.head().dtypes"
   ]
  },
  {
   "cell_type": "code",
   "execution_count": 97,
   "metadata": {},
   "outputs": [],
   "source": [
    "tstamp = (1e9*df['time (s)'] + timez.to_nanoseconds(start)).astype(int)"
   ]
  },
  {
   "cell_type": "code",
   "execution_count": 98,
   "metadata": {},
   "outputs": [
    {
     "data": {
      "text/plain": [
       "3     1104574234470333312\n",
       "4     1104574234471374976\n",
       "5     1104574234472416640\n",
       "6     1104574234473458304\n",
       "7     1104574234474499968\n",
       "8     1104574234475541632\n",
       "9     1104574234476583296\n",
       "10    1104574234477624960\n",
       "11    1104574234478666624\n",
       "12    1104574234479708288\n",
       "Name: time (s), dtype: int64"
      ]
     },
     "execution_count": 98,
     "metadata": {},
     "output_type": "execute_result"
    }
   ],
   "source": []
  },
  {
   "cell_type": "code",
   "execution_count": 48,
   "metadata": {},
   "outputs": [
    {
     "data": {
      "text/plain": [
       "[b'0.0729166666666665, 18576.240234375, -14831.1220703125, -4311.2666015625, 201.071990966797, -121.265060424805, -26.9477920532227, 52.8591384887695\\r\\n',\n",
       " b'0.0739583333333332, 19259.732421875, -8166.87060546875, -10861.2216796875, 215.582336425781, -74.6246566772461, -92.2443618774414, 48.7133178710938\\r\\n',\n",
       " b'0.0749999999999998, 17768.544921875, -633.964965820313, -16515.091796875, 200.035537719727, -36.2758750915527, -134.738952636719, 29.0207099914551\\r\\n',\n",
       " b'0.0760416666666665, 12935.3232421875, 6418.89501953125, -19334.40625, 134.738952636719, 29.0206985473633, -155.468032836914, 8.29161834716797\\r\\n',\n",
       " b'0.0770833333333332, 5906.8466796875, 12883.5087890625, -19084.478515625, 60.1143035888672, 83.9527359008789, -156.504486083984, -12.4374465942383\\r\\n',\n",
       " b'0.0781249999999998, -1646.63256835938, 17808.9296875, -16202.681640625, -1.03645348548889, 124.374420166016, -128.520233154297, -5.18226623535156\\r\\n',\n",
       " b'0.0791666666666665, -8441.9443359375, 19399.9375, -10420.798828125, -80.843376159668, 151.322219848633, -84.9891891479492, -14.5103454589844\\r\\n',\n",
       " b'0.0802083333333332, -14498.138671875, 18654.72265625, -2957.9951171875, -155.468032836914, 168.941925048828, -35.2394180297852, -21.7655258178711\\r\\n',\n",
       " b'0.0812499999999998, -18586.146484375, 14825.0263671875, 4342.50732421875, -188.634536743164, 125.410873413086, 18.6561641693115, -44.567497253418\\r\\n',\n",
       " b'0.0822916666666665, -19252.11328125, 8145.53515625, 10846.744140625, -212.47297668457, 69.4423828125, 80.843376159668, -62.1872177124023\\r\\n']"
      ]
     },
     "execution_count": 48,
     "metadata": {},
     "output_type": "execute_result"
    }
   ],
   "source": [
    "out[-10:]"
   ]
  },
  {
   "cell_type": "code",
   "execution_count": null,
   "metadata": {},
   "outputs": [],
   "source": []
  }
 ],
 "metadata": {
  "kernelspec": {
   "display_name": "Python 3",
   "language": "python",
   "name": "python3"
  },
  "language_info": {
   "codemirror_mode": {
    "name": "ipython",
    "version": 3
   },
   "file_extension": ".py",
   "mimetype": "text/x-python",
   "name": "python",
   "nbconvert_exporter": "python",
   "pygments_lexer": "ipython3",
   "version": "3.7.7"
  }
 },
 "nbformat": 4,
 "nbformat_minor": 4
}
