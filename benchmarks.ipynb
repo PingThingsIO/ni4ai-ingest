{
 "cells": [
  {
   "cell_type": "code",
   "execution_count": 2,
   "metadata": {},
   "outputs": [],
   "source": [
    "import btrdb\n",
    "from btrdb.utils.timez import *"
   ]
  },
  {
   "cell_type": "code",
   "execution_count": 3,
   "metadata": {},
   "outputs": [],
   "source": [
    "\n",
    "api_key = '2301C47D67FB1C2C48D0CC7B'\n",
    "\n",
    "db = btrdb.connect(\"api.ni4ai.org:4411\", apikey=api_key)"
   ]
  },
  {
   "cell_type": "code",
   "execution_count": 5,
   "metadata": {},
   "outputs": [
    {
     "name": "stdout",
     "output_type": "stream",
     "text": [
      "78 0.331983600006\n"
     ]
    }
   ],
   "source": [
    "streams = db.streams_in_collection('sunshine')\n",
    "points = 0\n",
    "for s in streams:\n",
    "    points += s.count()\n",
    "print(len(streams), points/1e12)"
   ]
  },
  {
   "cell_type": "code",
   "execution_count": 6,
   "metadata": {},
   "outputs": [
    {
     "name": "stdout",
     "output_type": "stream",
     "text": [
      "PH1MAG VB1\n",
      "PH1ANG VB1\n",
      "FREQ\n",
      "TIMEQUAL\n",
      "PH0MAG VA1\n",
      "PH2MAG VC1\n",
      "PH0ANG VA1\n",
      "STAT\n",
      "DFREQ\n",
      "PH2ANG VC1\n",
      "10 1.216103469\n"
     ]
    }
   ],
   "source": [
    "streams = db.streams_in_collection('streaming/zurich')\n",
    "points = 0\n",
    "for s in streams:\n",
    "    print(s.name)\n",
    "    points += s.count()\n",
    "print(len(streams), points/1e9)"
   ]
  },
  {
   "cell_type": "code",
   "execution_count": 4,
   "metadata": {},
   "outputs": [
    {
     "name": "stdout",
     "output_type": "stream",
     "text": [
      "32 37735.725738\n"
     ]
    }
   ],
   "source": [
    "streams = db.streams_in_collection('ni4ai')\n",
    "points = 0\n",
    "for s in streams:\n",
    "    points += s.count()\n",
    "print(len(streams), points/1e6)"
   ]
  },
  {
   "cell_type": "code",
   "execution_count": 6,
   "metadata": {},
   "outputs": [
    {
     "name": "stdout",
     "output_type": "stream",
     "text": [
      "18 2.353304803\n"
     ]
    }
   ],
   "source": [
    "streams = db.streams_in_collection('texas_pmus')\n",
    "points = 0\n",
    "for s in streams:\n",
    "    points += s.count()\n",
    "print(len(streams), points/1e9)"
   ]
  },
  {
   "cell_type": "code",
   "execution_count": 7,
   "metadata": {},
   "outputs": [
    {
     "name": "stdout",
     "output_type": "stream",
     "text": [
      "12 0.0072\n"
     ]
    }
   ],
   "source": [
    "streams = db.streams_in_collection('EPFL')\n",
    "points = 0\n",
    "for s in streams:\n",
    "    points += s.count()\n",
    "print(len(streams), points/1e9)"
   ]
  },
  {
   "cell_type": "code",
   "execution_count": 11,
   "metadata": {},
   "outputs": [
    {
     "name": "stdout",
     "output_type": "stream",
     "text": [
      "6 1.996706\n"
     ]
    }
   ],
   "source": [
    "streams = db.streams_in_collection('lndunn/PQdata')\n",
    "points = 0\n",
    "for s in streams:\n",
    "    points += s.count()\n",
    "print(len(streams), points/1e9)"
   ]
  },
  {
   "cell_type": "code",
   "execution_count": 16,
   "metadata": {},
   "outputs": [
    {
     "name": "stdout",
     "output_type": "stream",
     "text": [
      "56 10826130797\n"
     ]
    }
   ],
   "source": [
    "streams = db.streams_in_collection('USGS')\n",
    "points = 0\n",
    "for s in streams:\n",
    "    points += s.count()\n",
    "print(len(streams), points)"
   ]
  },
  {
   "cell_type": "code",
   "execution_count": 17,
   "metadata": {},
   "outputs": [
    {
     "name": "stdout",
     "output_type": "stream",
     "text": [
      "15 1728000\n"
     ]
    }
   ],
   "source": [
    "streams = db.streams_in_collection('Health')\n",
    "points = 0\n",
    "starts = []\n",
    "for s in streams:\n",
    "    points += s.count()\n",
    "print(len(streams), points)"
   ]
  },
  {
   "cell_type": "code",
   "execution_count": 12,
   "metadata": {},
   "outputs": [
    {
     "name": "stdout",
     "output_type": "stream",
     "text": [
      "1173 2112573\n"
     ]
    }
   ],
   "source": [
    "streams = db.streams_in_collection('lndunn/events/')\n",
    "points = 0\n",
    "starts = []\n",
    "for s in streams:\n",
    "    points += s.count()\n",
    "print(len(streams), points)"
   ]
  },
  {
   "cell_type": "code",
   "execution_count": 37,
   "metadata": {},
   "outputs": [
    {
     "name": "stdout",
     "output_type": "stream",
     "text": [
      "32 0 2020-04-10 05:14:54+00:00\n"
     ]
    }
   ],
   "source": [
    "streams = db.streams_in_collection('ni4ai')\n",
    "points = 0\n",
    "starts = []\n",
    "for s in streams:\n",
    "    _s = db.streams(s.uuid).filter(start=datetime(2009,1,1), end=datetime.now())\n",
    "    points += _s.count()\n",
    "    starts.append(_s.earliest()[0][0])\n",
    "#     starts.append(s.aligned_windows(datetime(2009,1,1), datetime.now(), 45).earliest()[0][0])\n",
    "print(len(streams), points, ns_to_datetime(min(starts)))"
   ]
  },
  {
   "cell_type": "code",
   "execution_count": 36,
   "metadata": {},
   "outputs": [
    {
     "data": {
      "text/plain": [
       "(RawPoint(1587684613000000000, 0.41657745838165283),)"
      ]
     },
     "execution_count": 36,
     "metadata": {},
     "output_type": "execute_result"
    }
   ],
   "source": [
    "_s.earliest()"
   ]
  },
  {
   "cell_type": "code",
   "execution_count": null,
   "metadata": {},
   "outputs": [],
   "source": []
  }
 ],
 "metadata": {
  "kernelspec": {
   "display_name": "Python 3",
   "language": "python",
   "name": "python3"
  },
  "language_info": {
   "codemirror_mode": {
    "name": "ipython",
    "version": 3
   },
   "file_extension": ".py",
   "mimetype": "text/x-python",
   "name": "python",
   "nbconvert_exporter": "python",
   "pygments_lexer": "ipython3",
   "version": "3.7.7"
  }
 },
 "nbformat": 4,
 "nbformat_minor": 4
}
